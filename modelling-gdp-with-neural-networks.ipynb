{
 "cells": [
  {
   "cell_type": "code",
   "execution_count": 1,
   "id": "fcdb0da7",
   "metadata": {
    "_cell_guid": "b1076dfc-b9ad-4769-8c92-a6c4dae69d19",
    "_uuid": "8f2839f25d086af736a60e9eeb907d3b93b6e0e5",
    "execution": {
     "iopub.execute_input": "2023-09-19T23:44:14.921388Z",
     "iopub.status.busy": "2023-09-19T23:44:14.920702Z",
     "iopub.status.idle": "2023-09-19T23:44:15.687941Z",
     "shell.execute_reply": "2023-09-19T23:44:15.686722Z"
    },
    "papermill": {
     "duration": 0.792744,
     "end_time": "2023-09-19T23:44:15.690513",
     "exception": false,
     "start_time": "2023-09-19T23:44:14.897769",
     "status": "completed"
    },
    "tags": []
   },
   "outputs": [
    {
     "name": "stdout",
     "output_type": "stream",
     "text": [
      "/kaggle/input/countries-of-the-world/countries of the world.csv\n",
      "/kaggle/input/cleaned/cleaned_countries.csv\n"
     ]
    }
   ],
   "source": [
    "# This Python 3 environment comes with many helpful analytics libraries installed\n",
    "# It is defined by the kaggle/python Docker image: https://github.com/kaggle/docker-python\n",
    "# For example, here's several helpful packages to load\n",
    "\n",
    "import numpy as np # linear algebra\n",
    "import pandas as pd # data processing, CSV file I/O (e.g. pd.read_csv)\n",
    "\n",
    "# Input data files are available in the read-only \"../input/\" directory\n",
    "# For example, running this (by clicking run or pressing Shift+Enter) will list all files under the input directory\n",
    "\n",
    "import os\n",
    "for dirname, _, filenames in os.walk('/kaggle/input'):\n",
    "    for filename in filenames:\n",
    "        print(os.path.join(dirname, filename))\n",
    "\n",
    "# You can write up to 20GB to the current directory (/kaggle/working/) that gets preserved as output when you create a version using \"Save & Run All\" \n",
    "# You can also write temporary files to /kaggle/temp/, but they won't be saved outside of the current session"
   ]
  },
  {
   "cell_type": "markdown",
   "id": "fdbe1c18",
   "metadata": {
    "papermill": {
     "duration": 0.022701,
     "end_time": "2023-09-19T23:44:15.734326",
     "exception": false,
     "start_time": "2023-09-19T23:44:15.711625",
     "status": "completed"
    },
    "tags": []
   },
   "source": [
    "Read the cleaned version, which was cleaned in one of the previous Python analysis from the same kaggle dataset"
   ]
  },
  {
   "cell_type": "code",
   "execution_count": 2,
   "id": "c9072203",
   "metadata": {
    "execution": {
     "iopub.execute_input": "2023-09-19T23:44:15.778772Z",
     "iopub.status.busy": "2023-09-19T23:44:15.778264Z",
     "iopub.status.idle": "2023-09-19T23:44:15.817587Z",
     "shell.execute_reply": "2023-09-19T23:44:15.816181Z"
    },
    "papermill": {
     "duration": 0.064279,
     "end_time": "2023-09-19T23:44:15.820196",
     "exception": false,
     "start_time": "2023-09-19T23:44:15.755917",
     "status": "completed"
    },
    "tags": []
   },
   "outputs": [],
   "source": [
    "countries = pd.read_csv(\"/kaggle/input/cleaned/cleaned_countries.csv\", index_col = 0)"
   ]
  },
  {
   "cell_type": "code",
   "execution_count": 3,
   "id": "aede186d",
   "metadata": {
    "execution": {
     "iopub.execute_input": "2023-09-19T23:44:15.865069Z",
     "iopub.status.busy": "2023-09-19T23:44:15.864652Z",
     "iopub.status.idle": "2023-09-19T23:44:15.900685Z",
     "shell.execute_reply": "2023-09-19T23:44:15.899519Z"
    },
    "papermill": {
     "duration": 0.060616,
     "end_time": "2023-09-19T23:44:15.902972",
     "exception": false,
     "start_time": "2023-09-19T23:44:15.842356",
     "status": "completed"
    },
    "tags": []
   },
   "outputs": [
    {
     "data": {
      "text/html": [
       "<div>\n",
       "<style scoped>\n",
       "    .dataframe tbody tr th:only-of-type {\n",
       "        vertical-align: middle;\n",
       "    }\n",
       "\n",
       "    .dataframe tbody tr th {\n",
       "        vertical-align: top;\n",
       "    }\n",
       "\n",
       "    .dataframe thead th {\n",
       "        text-align: right;\n",
       "    }\n",
       "</style>\n",
       "<table border=\"1\" class=\"dataframe\">\n",
       "  <thead>\n",
       "    <tr style=\"text-align: right;\">\n",
       "      <th></th>\n",
       "      <th>Country</th>\n",
       "      <th>Region</th>\n",
       "      <th>Population</th>\n",
       "      <th>Area</th>\n",
       "      <th>Pop._Density</th>\n",
       "      <th>Coastline</th>\n",
       "      <th>Net_migration</th>\n",
       "      <th>Infant_mortality</th>\n",
       "      <th>GDP</th>\n",
       "      <th>Literacy</th>\n",
       "      <th>...</th>\n",
       "      <th>Crops</th>\n",
       "      <th>Other</th>\n",
       "      <th>Climate</th>\n",
       "      <th>Birthrate</th>\n",
       "      <th>Deathrate</th>\n",
       "      <th>Agriculture</th>\n",
       "      <th>Industry</th>\n",
       "      <th>Service</th>\n",
       "      <th>landlocked</th>\n",
       "      <th>cluster_labels</th>\n",
       "    </tr>\n",
       "  </thead>\n",
       "  <tbody>\n",
       "    <tr>\n",
       "      <th>0</th>\n",
       "      <td>Afghanistan</td>\n",
       "      <td>ASIA (EX. NEAR EAST)</td>\n",
       "      <td>31056997</td>\n",
       "      <td>647500</td>\n",
       "      <td>480</td>\n",
       "      <td>0</td>\n",
       "      <td>2306.0</td>\n",
       "      <td>16307.0</td>\n",
       "      <td>700.0</td>\n",
       "      <td>360.0</td>\n",
       "      <td>...</td>\n",
       "      <td>22.0</td>\n",
       "      <td>8765.0</td>\n",
       "      <td>1.0</td>\n",
       "      <td>466.0</td>\n",
       "      <td>2034.0</td>\n",
       "      <td>38.0</td>\n",
       "      <td>24.000000</td>\n",
       "      <td>38.000</td>\n",
       "      <td>1</td>\n",
       "      <td>2</td>\n",
       "    </tr>\n",
       "    <tr>\n",
       "      <th>1</th>\n",
       "      <td>Albania</td>\n",
       "      <td>EASTERN EUROPE</td>\n",
       "      <td>3581655</td>\n",
       "      <td>28748</td>\n",
       "      <td>1246</td>\n",
       "      <td>126</td>\n",
       "      <td>-493.0</td>\n",
       "      <td>2152.0</td>\n",
       "      <td>4500.0</td>\n",
       "      <td>865.0</td>\n",
       "      <td>...</td>\n",
       "      <td>442.0</td>\n",
       "      <td>7449.0</td>\n",
       "      <td>3.0</td>\n",
       "      <td>1511.0</td>\n",
       "      <td>522.0</td>\n",
       "      <td>232.0</td>\n",
       "      <td>188.000000</td>\n",
       "      <td>579.000</td>\n",
       "      <td>0</td>\n",
       "      <td>1</td>\n",
       "    </tr>\n",
       "    <tr>\n",
       "      <th>2</th>\n",
       "      <td>Algeria</td>\n",
       "      <td>NORTHERN AFRICA</td>\n",
       "      <td>32930091</td>\n",
       "      <td>2381740</td>\n",
       "      <td>138</td>\n",
       "      <td>4</td>\n",
       "      <td>-39.0</td>\n",
       "      <td>31.0</td>\n",
       "      <td>6000.0</td>\n",
       "      <td>700.0</td>\n",
       "      <td>...</td>\n",
       "      <td>25.0</td>\n",
       "      <td>9653.0</td>\n",
       "      <td>1.0</td>\n",
       "      <td>1714.0</td>\n",
       "      <td>461.0</td>\n",
       "      <td>101.0</td>\n",
       "      <td>6.000000</td>\n",
       "      <td>298.000</td>\n",
       "      <td>0</td>\n",
       "      <td>1</td>\n",
       "    </tr>\n",
       "    <tr>\n",
       "      <th>3</th>\n",
       "      <td>American Samoa</td>\n",
       "      <td>OCEANIA</td>\n",
       "      <td>57794</td>\n",
       "      <td>199</td>\n",
       "      <td>2904</td>\n",
       "      <td>5829</td>\n",
       "      <td>-2071.0</td>\n",
       "      <td>927.0</td>\n",
       "      <td>8000.0</td>\n",
       "      <td>970.0</td>\n",
       "      <td>...</td>\n",
       "      <td>15.0</td>\n",
       "      <td>75.0</td>\n",
       "      <td>2.0</td>\n",
       "      <td>2246.0</td>\n",
       "      <td>327.0</td>\n",
       "      <td>115.5</td>\n",
       "      <td>169.687500</td>\n",
       "      <td>473.375</td>\n",
       "      <td>0</td>\n",
       "      <td>1</td>\n",
       "    </tr>\n",
       "    <tr>\n",
       "      <th>4</th>\n",
       "      <td>Andorra</td>\n",
       "      <td>WESTERN EUROPE</td>\n",
       "      <td>71201</td>\n",
       "      <td>468</td>\n",
       "      <td>1521</td>\n",
       "      <td>0</td>\n",
       "      <td>66.0</td>\n",
       "      <td>405.0</td>\n",
       "      <td>19000.0</td>\n",
       "      <td>1000.0</td>\n",
       "      <td>...</td>\n",
       "      <td>0.0</td>\n",
       "      <td>9778.0</td>\n",
       "      <td>3.0</td>\n",
       "      <td>871.0</td>\n",
       "      <td>625.0</td>\n",
       "      <td>18.2</td>\n",
       "      <td>159.458333</td>\n",
       "      <td>492.625</td>\n",
       "      <td>1</td>\n",
       "      <td>3</td>\n",
       "    </tr>\n",
       "  </tbody>\n",
       "</table>\n",
       "<p>5 rows × 22 columns</p>\n",
       "</div>"
      ],
      "text/plain": [
       "           Country                               Region  Population     Area  \\\n",
       "0     Afghanistan         ASIA (EX. NEAR EAST)             31056997   647500   \n",
       "1         Albania   EASTERN EUROPE                          3581655    28748   \n",
       "2         Algeria   NORTHERN AFRICA                        32930091  2381740   \n",
       "3  American Samoa   OCEANIA                                   57794      199   \n",
       "4         Andorra   WESTERN EUROPE                            71201      468   \n",
       "\n",
       "   Pop._Density  Coastline  Net_migration  Infant_mortality      GDP  \\\n",
       "0           480          0         2306.0           16307.0    700.0   \n",
       "1          1246        126         -493.0            2152.0   4500.0   \n",
       "2           138          4          -39.0              31.0   6000.0   \n",
       "3          2904       5829        -2071.0             927.0   8000.0   \n",
       "4          1521          0           66.0             405.0  19000.0   \n",
       "\n",
       "   Literacy  ...  Crops   Other  Climate  Birthrate  Deathrate  Agriculture  \\\n",
       "0     360.0  ...   22.0  8765.0      1.0      466.0     2034.0         38.0   \n",
       "1     865.0  ...  442.0  7449.0      3.0     1511.0      522.0        232.0   \n",
       "2     700.0  ...   25.0  9653.0      1.0     1714.0      461.0        101.0   \n",
       "3     970.0  ...   15.0    75.0      2.0     2246.0      327.0        115.5   \n",
       "4    1000.0  ...    0.0  9778.0      3.0      871.0      625.0         18.2   \n",
       "\n",
       "     Industry  Service  landlocked  cluster_labels  \n",
       "0   24.000000   38.000           1               2  \n",
       "1  188.000000  579.000           0               1  \n",
       "2    6.000000  298.000           0               1  \n",
       "3  169.687500  473.375           0               1  \n",
       "4  159.458333  492.625           1               3  \n",
       "\n",
       "[5 rows x 22 columns]"
      ]
     },
     "execution_count": 3,
     "metadata": {},
     "output_type": "execute_result"
    }
   ],
   "source": [
    "## Check\n",
    "\n",
    "countries.head()"
   ]
  },
  {
   "cell_type": "markdown",
   "id": "271198fb",
   "metadata": {
    "papermill": {
     "duration": 0.021592,
     "end_time": "2023-09-19T23:44:15.945816",
     "exception": false,
     "start_time": "2023-09-19T23:44:15.924224",
     "status": "completed"
    },
    "tags": []
   },
   "source": [
    "## Check for missing entries"
   ]
  },
  {
   "cell_type": "code",
   "execution_count": 4,
   "id": "5d9af022",
   "metadata": {
    "execution": {
     "iopub.execute_input": "2023-09-19T23:44:16.048448Z",
     "iopub.status.busy": "2023-09-19T23:44:16.048063Z",
     "iopub.status.idle": "2023-09-19T23:44:16.056818Z",
     "shell.execute_reply": "2023-09-19T23:44:16.055792Z"
    },
    "papermill": {
     "duration": 0.033686,
     "end_time": "2023-09-19T23:44:16.058842",
     "exception": false,
     "start_time": "2023-09-19T23:44:16.025156",
     "status": "completed"
    },
    "tags": []
   },
   "outputs": [
    {
     "data": {
      "text/plain": [
       "Country             0\n",
       "Region              0\n",
       "Population          0\n",
       "Area                0\n",
       "Pop._Density        0\n",
       "Coastline           0\n",
       "Net_migration       0\n",
       "Infant_mortality    0\n",
       "GDP                 0\n",
       "Literacy            0\n",
       "Phones              0\n",
       "Arable              0\n",
       "Crops               0\n",
       "Other               0\n",
       "Climate             0\n",
       "Birthrate           0\n",
       "Deathrate           0\n",
       "Agriculture         0\n",
       "Industry            0\n",
       "Service             0\n",
       "landlocked          0\n",
       "cluster_labels      0\n",
       "dtype: int64"
      ]
     },
     "execution_count": 4,
     "metadata": {},
     "output_type": "execute_result"
    }
   ],
   "source": [
    "## Check for missing \n",
    "\n",
    "## Check for missing along each column, i.e. axis = 0\n",
    "countries.isna().sum(axis = 0)"
   ]
  },
  {
   "cell_type": "markdown",
   "id": "9f1490a2",
   "metadata": {
    "papermill": {
     "duration": 0.022272,
     "end_time": "2023-09-19T23:44:16.102475",
     "exception": false,
     "start_time": "2023-09-19T23:44:16.080203",
     "status": "completed"
    },
    "tags": []
   },
   "source": [
    "# Modelling GDP via country predictors"
   ]
  },
  {
   "cell_type": "markdown",
   "id": "5f94c2ee",
   "metadata": {
    "papermill": {
     "duration": 0.02101,
     "end_time": "2023-09-19T23:44:16.144992",
     "exception": false,
     "start_time": "2023-09-19T23:44:16.123982",
     "status": "completed"
    },
    "tags": []
   },
   "source": [
    "Modelling GDP, as we have done in the previous analysis, is essentially a regression process since it involves predicting an outcome that is continuous and numeric. \n",
    "\n",
    "We can imitate a regular multiple linear model via a very basic, two layered neural network, that essentially gives a parameter to each predictor (the weight, i.e. the coefficients) and then one parameter to the bias (i.e. the constant)"
   ]
  },
  {
   "cell_type": "markdown",
   "id": "0592648f",
   "metadata": {
    "papermill": {
     "duration": 0.021076,
     "end_time": "2023-09-19T23:44:16.187308",
     "exception": false,
     "start_time": "2023-09-19T23:44:16.166232",
     "status": "completed"
    },
    "tags": []
   },
   "source": [
    "## Data preparation: train test split + standardisation"
   ]
  },
  {
   "cell_type": "code",
   "execution_count": 5,
   "id": "7c967fc3",
   "metadata": {
    "execution": {
     "iopub.execute_input": "2023-09-19T23:44:16.231852Z",
     "iopub.status.busy": "2023-09-19T23:44:16.231490Z",
     "iopub.status.idle": "2023-09-19T23:44:16.247149Z",
     "shell.execute_reply": "2023-09-19T23:44:16.246407Z"
    },
    "papermill": {
     "duration": 0.040937,
     "end_time": "2023-09-19T23:44:16.249504",
     "exception": false,
     "start_time": "2023-09-19T23:44:16.208567",
     "status": "completed"
    },
    "tags": []
   },
   "outputs": [
    {
     "name": "stdout",
     "output_type": "stream",
     "text": [
      "                                Region  Population     Area  Pop._Density  \\\n",
      "0        ASIA (EX. NEAR EAST)             31056997   647500           480   \n",
      "1  EASTERN EUROPE                          3581655    28748          1246   \n",
      "2  NORTHERN AFRICA                        32930091  2381740           138   \n",
      "3  OCEANIA                                   57794      199          2904   \n",
      "4  WESTERN EUROPE                            71201      468          1521   \n",
      "\n",
      "   Coastline  Net_migration  Infant_mortality  Literacy  Phones  Arable  \\\n",
      "0          0         2306.0           16307.0     360.0    32.0  1213.0   \n",
      "1        126         -493.0            2152.0     865.0   712.0  2109.0   \n",
      "2          4          -39.0              31.0     700.0   781.0   322.0   \n",
      "3       5829        -2071.0             927.0     970.0  2595.0    10.0   \n",
      "4          0           66.0             405.0    1000.0  4972.0   222.0   \n",
      "\n",
      "   Crops   Other  Climate  Birthrate  Deathrate  Agriculture    Industry  \\\n",
      "0   22.0  8765.0      1.0      466.0     2034.0         38.0   24.000000   \n",
      "1  442.0  7449.0      3.0     1511.0      522.0        232.0  188.000000   \n",
      "2   25.0  9653.0      1.0     1714.0      461.0        101.0    6.000000   \n",
      "3   15.0    75.0      2.0     2246.0      327.0        115.5  169.687500   \n",
      "4    0.0  9778.0      3.0      871.0      625.0         18.2  159.458333   \n",
      "\n",
      "   Service  landlocked  cluster_labels  \n",
      "0   38.000           1               2  \n",
      "1  579.000           0               1  \n",
      "2  298.000           0               1  \n",
      "3  473.375           0               1  \n",
      "4  492.625           1               3  \n"
     ]
    }
   ],
   "source": [
    "## First, we drop the country column, that is unique to each level and does not help us make any predictions as it cannot generalise \n",
    "X = countries.drop(columns = ['Country', 'GDP'])\n",
    "\n",
    "## Check \n",
    "print(X.head())"
   ]
  },
  {
   "cell_type": "code",
   "execution_count": 6,
   "id": "ab5c26a6",
   "metadata": {
    "execution": {
     "iopub.execute_input": "2023-09-19T23:44:16.295229Z",
     "iopub.status.busy": "2023-09-19T23:44:16.294833Z",
     "iopub.status.idle": "2023-09-19T23:44:16.300643Z",
     "shell.execute_reply": "2023-09-19T23:44:16.299630Z"
    },
    "papermill": {
     "duration": 0.031642,
     "end_time": "2023-09-19T23:44:16.302734",
     "exception": false,
     "start_time": "2023-09-19T23:44:16.271092",
     "status": "completed"
    },
    "tags": []
   },
   "outputs": [],
   "source": [
    "## We also remove cluster labels \n",
    "X = X.drop(columns = ['cluster_labels'])"
   ]
  },
  {
   "cell_type": "code",
   "execution_count": 7,
   "id": "0d1abcd6",
   "metadata": {
    "execution": {
     "iopub.execute_input": "2023-09-19T23:44:16.347740Z",
     "iopub.status.busy": "2023-09-19T23:44:16.347362Z",
     "iopub.status.idle": "2023-09-19T23:44:16.355398Z",
     "shell.execute_reply": "2023-09-19T23:44:16.354356Z"
    },
    "papermill": {
     "duration": 0.033371,
     "end_time": "2023-09-19T23:44:16.357672",
     "exception": false,
     "start_time": "2023-09-19T23:44:16.324301",
     "status": "completed"
    },
    "tags": []
   },
   "outputs": [
    {
     "data": {
      "text/plain": [
       "Region               object\n",
       "Population            int64\n",
       "Area                  int64\n",
       "Pop._Density          int64\n",
       "Coastline             int64\n",
       "Net_migration       float64\n",
       "Infant_mortality    float64\n",
       "Literacy            float64\n",
       "Phones              float64\n",
       "Arable              float64\n",
       "Crops               float64\n",
       "Other               float64\n",
       "Climate             float64\n",
       "Birthrate           float64\n",
       "Deathrate           float64\n",
       "Agriculture         float64\n",
       "Industry            float64\n",
       "Service             float64\n",
       "landlocked            int64\n",
       "dtype: object"
      ]
     },
     "execution_count": 7,
     "metadata": {},
     "output_type": "execute_result"
    }
   ],
   "source": [
    "## Check data types\n",
    "X.dtypes"
   ]
  },
  {
   "cell_type": "markdown",
   "id": "fd2f566b",
   "metadata": {
    "papermill": {
     "duration": 0.021695,
     "end_time": "2023-09-19T23:44:16.401082",
     "exception": false,
     "start_time": "2023-09-19T23:44:16.379387",
     "status": "completed"
    },
    "tags": []
   },
   "source": [
    "Apart from Region, the rest are numeric and require standardising. Since Region is categorical, we may also have to handle it separately and apply some sort of encoding. "
   ]
  },
  {
   "cell_type": "code",
   "execution_count": 8,
   "id": "5a690ea3",
   "metadata": {
    "execution": {
     "iopub.execute_input": "2023-09-19T23:44:16.446963Z",
     "iopub.status.busy": "2023-09-19T23:44:16.446189Z",
     "iopub.status.idle": "2023-09-19T23:44:16.456167Z",
     "shell.execute_reply": "2023-09-19T23:44:16.454935Z"
    },
    "papermill": {
     "duration": 0.035637,
     "end_time": "2023-09-19T23:44:16.458542",
     "exception": false,
     "start_time": "2023-09-19T23:44:16.422905",
     "status": "completed"
    },
    "tags": []
   },
   "outputs": [
    {
     "name": "stdout",
     "output_type": "stream",
     "text": [
      "Region\n",
      "SUB-SAHARAN AFRICA                     51\n",
      "LATIN AMER. & CARIB                    45\n",
      "ASIA (EX. NEAR EAST)                   28\n",
      "WESTERN EUROPE                         28\n",
      "OCEANIA                                21\n",
      "NEAR EAST                              16\n",
      "EASTERN EUROPE                         12\n",
      "C.W. OF IND. STATES                    12\n",
      "NORTHERN AFRICA                         6\n",
      "NORTHERN AMERICA                        5\n",
      "BALTICS                                 3\n",
      "Name: count, dtype: int64\n",
      "=============== \n",
      "\n",
      "Number of classes of Region  11\n"
     ]
    }
   ],
   "source": [
    "print(countries.Region.value_counts())\n",
    "print('=============== \\n')\n",
    "print(\"Number of classes of Region \", countries.Region.nunique())"
   ]
  },
  {
   "cell_type": "markdown",
   "id": "b519909f",
   "metadata": {
    "papermill": {
     "duration": 0.021564,
     "end_time": "2023-09-19T23:44:16.501786",
     "exception": false,
     "start_time": "2023-09-19T23:44:16.480222",
     "status": "completed"
    },
    "tags": []
   },
   "source": [
    "As seen, we have 11 classes of different regions. "
   ]
  },
  {
   "cell_type": "markdown",
   "id": "9676f118",
   "metadata": {
    "papermill": {
     "duration": 0.021661,
     "end_time": "2023-09-19T23:44:16.545223",
     "exception": false,
     "start_time": "2023-09-19T23:44:16.523562",
     "status": "completed"
    },
    "tags": []
   },
   "source": [
    "### Encoding the categorical variable"
   ]
  },
  {
   "cell_type": "markdown",
   "id": "1b5f219d",
   "metadata": {
    "papermill": {
     "duration": 0.022001,
     "end_time": "2023-09-19T23:44:16.589314",
     "exception": false,
     "start_time": "2023-09-19T23:44:16.567313",
     "status": "completed"
    },
    "tags": []
   },
   "source": [
    "Unlike R that recgonises strings type as factorial and will automatically handle categorical data as dummy variables such as in the built in linear regression model methods, we often have to explicitly deal with categorical variables in Python. \n",
    "\n",
    "The common method is one hot encoding, which. "
   ]
  },
  {
   "cell_type": "code",
   "execution_count": 9,
   "id": "afc3be52",
   "metadata": {
    "execution": {
     "iopub.execute_input": "2023-09-19T23:44:16.634762Z",
     "iopub.status.busy": "2023-09-19T23:44:16.634373Z",
     "iopub.status.idle": "2023-09-19T23:44:16.645454Z",
     "shell.execute_reply": "2023-09-19T23:44:16.644129Z"
    },
    "papermill": {
     "duration": 0.036762,
     "end_time": "2023-09-19T23:44:16.647761",
     "exception": false,
     "start_time": "2023-09-19T23:44:16.610999",
     "status": "completed"
    },
    "tags": []
   },
   "outputs": [
    {
     "name": "stdout",
     "output_type": "stream",
     "text": [
      "Original number of columns  19\n",
      "After introducing one hot encoding,  29\n"
     ]
    }
   ],
   "source": [
    "print('Original number of columns ', X.shape[1])\n",
    "X_with_ohe = pd.get_dummies(X, columns = ['Region'])\n",
    "print('After introducing one hot encoding, ', X_with_ohe.shape[1])"
   ]
  },
  {
   "cell_type": "markdown",
   "id": "939775be",
   "metadata": {
    "papermill": {
     "duration": 0.021891,
     "end_time": "2023-09-19T23:44:16.691735",
     "exception": false,
     "start_time": "2023-09-19T23:44:16.669844",
     "status": "completed"
    },
    "tags": []
   },
   "source": [
    "We introduced 11 dummies and removed the original 1 column for region, hence net increase in 10 columns "
   ]
  },
  {
   "cell_type": "code",
   "execution_count": 10,
   "id": "05cf4353",
   "metadata": {
    "execution": {
     "iopub.execute_input": "2023-09-19T23:44:16.737818Z",
     "iopub.status.busy": "2023-09-19T23:44:16.737439Z",
     "iopub.status.idle": "2023-09-19T23:44:16.742944Z",
     "shell.execute_reply": "2023-09-19T23:44:16.742201Z"
    },
    "papermill": {
     "duration": 0.031903,
     "end_time": "2023-09-19T23:44:16.745654",
     "exception": false,
     "start_time": "2023-09-19T23:44:16.713751",
     "status": "completed"
    },
    "tags": []
   },
   "outputs": [
    {
     "name": "stdout",
     "output_type": "stream",
     "text": [
      "['Region_ASIA (EX. NEAR EAST)         ', 'Region_BALTICS                            ', 'Region_C.W. OF IND. STATES ', 'Region_EASTERN EUROPE                     ', 'Region_LATIN AMER. & CARIB    ', 'Region_NEAR EAST                          ', 'Region_NORTHERN AFRICA                    ', 'Region_NORTHERN AMERICA                   ', 'Region_OCEANIA                            ', 'Region_SUB-SAHARAN AFRICA                 ', 'Region_WESTERN EUROPE                     ']\n"
     ]
    }
   ],
   "source": [
    "## Check the new dummy columns \n",
    "region_dummies = [col for col in X_with_ohe.columns if col.startswith('Region') ]\n",
    "print(region_dummies)\n",
    "\n",
    "## Need to clean up the trailing white space \n",
    "## Clear for all column names \n",
    "X_with_ohe.columns = [col.strip() for col in X_with_ohe.columns]\n",
    "\n"
   ]
  },
  {
   "cell_type": "code",
   "execution_count": 11,
   "id": "cae18536",
   "metadata": {
    "execution": {
     "iopub.execute_input": "2023-09-19T23:44:16.791925Z",
     "iopub.status.busy": "2023-09-19T23:44:16.791536Z",
     "iopub.status.idle": "2023-09-19T23:44:16.797178Z",
     "shell.execute_reply": "2023-09-19T23:44:16.796141Z"
    },
    "papermill": {
     "duration": 0.031941,
     "end_time": "2023-09-19T23:44:16.799788",
     "exception": false,
     "start_time": "2023-09-19T23:44:16.767847",
     "status": "completed"
    },
    "tags": []
   },
   "outputs": [
    {
     "name": "stdout",
     "output_type": "stream",
     "text": [
      "['Region_ASIA (EX. NEAR EAST)', 'Region_BALTICS', 'Region_C.W. OF IND. STATES', 'Region_EASTERN EUROPE', 'Region_LATIN AMER. & CARIB', 'Region_NEAR EAST', 'Region_NORTHERN AFRICA', 'Region_NORTHERN AMERICA', 'Region_OCEANIA', 'Region_SUB-SAHARAN AFRICA', 'Region_WESTERN EUROPE']\n"
     ]
    }
   ],
   "source": [
    "## Check again \n",
    "region_dummies = [col for col in X_with_ohe.columns if col.startswith('Region') ]\n",
    "print(region_dummies)"
   ]
  },
  {
   "cell_type": "code",
   "execution_count": 12,
   "id": "09cc0681",
   "metadata": {
    "execution": {
     "iopub.execute_input": "2023-09-19T23:44:16.846332Z",
     "iopub.status.busy": "2023-09-19T23:44:16.845918Z",
     "iopub.status.idle": "2023-09-19T23:44:16.853107Z",
     "shell.execute_reply": "2023-09-19T23:44:16.851990Z"
    },
    "papermill": {
     "duration": 0.033,
     "end_time": "2023-09-19T23:44:16.855350",
     "exception": false,
     "start_time": "2023-09-19T23:44:16.822350",
     "status": "completed"
    },
    "tags": []
   },
   "outputs": [
    {
     "name": "stdout",
     "output_type": "stream",
     "text": [
      "The dummies are the following :  ['Region_ASIA (EX. NEAR EAST)', 'Region_BALTICS', 'Region_C.W. OF IND. STATES', 'Region_EASTERN EUROPE', 'Region_LATIN AMER. & CARIB', 'Region_NEAR EAST', 'Region_NORTHERN AFRICA', 'Region_NORTHERN AMERICA', 'Region_OCEANIA', 'Region_SUB-SAHARAN AFRICA', 'Region_WESTERN EUROPE']  \n",
      " \n",
      " count :  11\n",
      "\n",
      " ================\n",
      "The regions are :  ['ASIA (EX. NEAR EAST)', 'EASTERN EUROPE', 'NORTHERN AFRICA', 'OCEANIA', 'WESTERN EUROPE', 'SUB-SAHARAN AFRICA', 'LATIN AMER. & CARIB', 'C.W. OF IND. STATES', 'NEAR EAST', 'NORTHERN AMERICA', 'BALTICS']  \n",
      " \n",
      " count :  11\n"
     ]
    }
   ],
   "source": [
    "print('The dummies are the following : ', region_dummies, ' \\n \\n count : ', len(region_dummies))\n",
    "print('\\n ================')\n",
    "print('The regions are : ', [region.strip() for region in countries.Region.unique().tolist()], ' \\n \\n count : ', countries.Region.nunique())"
   ]
  },
  {
   "cell_type": "markdown",
   "id": "5d316916",
   "metadata": {
    "papermill": {
     "duration": 0.022193,
     "end_time": "2023-09-19T23:44:16.899758",
     "exception": false,
     "start_time": "2023-09-19T23:44:16.877565",
     "status": "completed"
    },
    "tags": []
   },
   "source": [
    "### Standardising the data"
   ]
  },
  {
   "cell_type": "code",
   "execution_count": 13,
   "id": "e2dd68ad",
   "metadata": {
    "execution": {
     "iopub.execute_input": "2023-09-19T23:44:16.947541Z",
     "iopub.status.busy": "2023-09-19T23:44:16.947104Z",
     "iopub.status.idle": "2023-09-19T23:44:16.963804Z",
     "shell.execute_reply": "2023-09-19T23:44:16.962648Z"
    },
    "papermill": {
     "duration": 0.044369,
     "end_time": "2023-09-19T23:44:16.966768",
     "exception": false,
     "start_time": "2023-09-19T23:44:16.922399",
     "status": "completed"
    },
    "tags": []
   },
   "outputs": [
    {
     "name": "stdout",
     "output_type": "stream",
     "text": [
      "Index(['Population', 'Area', 'Pop._Density', 'Coastline', 'Net_migration',\n",
      "       'Infant_mortality', 'Literacy', 'Phones', 'Arable', 'Crops', 'Other',\n",
      "       'Climate', 'Birthrate', 'Deathrate', 'Agriculture', 'Industry',\n",
      "       'Service', 'landlocked'],\n",
      "      dtype='object')\n",
      "   Population     Area  Pop._Density  Coastline  Net_migration  \\\n",
      "0    31056997   647500           480          0         2306.0   \n",
      "1     3581655    28748          1246        126         -493.0   \n",
      "2    32930091  2381740           138          4          -39.0   \n",
      "3       57794      199          2904       5829        -2071.0   \n",
      "4       71201      468          1521          0           66.0   \n",
      "\n",
      "   Infant_mortality  Literacy  Phones  Arable  Crops   Other  Climate  \\\n",
      "0           16307.0     360.0    32.0  1213.0   22.0  8765.0      1.0   \n",
      "1            2152.0     865.0   712.0  2109.0  442.0  7449.0      3.0   \n",
      "2              31.0     700.0   781.0   322.0   25.0  9653.0      1.0   \n",
      "3             927.0     970.0  2595.0    10.0   15.0    75.0      2.0   \n",
      "4             405.0    1000.0  4972.0   222.0    0.0  9778.0      3.0   \n",
      "\n",
      "   Birthrate  Deathrate  Agriculture    Industry  Service  landlocked  \n",
      "0      466.0     2034.0         38.0   24.000000   38.000           1  \n",
      "1     1511.0      522.0        232.0  188.000000  579.000           0  \n",
      "2     1714.0      461.0        101.0    6.000000  298.000           0  \n",
      "3     2246.0      327.0        115.5  169.687500  473.375           0  \n",
      "4      871.0      625.0         18.2  159.458333  492.625           1  \n"
     ]
    }
   ],
   "source": [
    "## Names of columns which are numeric \n",
    "numeric_cols = X.select_dtypes(exclude = 'object').columns ## Choose only the numeric types \n",
    "print(numeric_cols)\n",
    "\n",
    "## Numeric subset \n",
    "X_encoded_numeric_subset = X_with_ohe[numeric_cols]\n",
    "print(X_encoded_numeric_subset.head())"
   ]
  },
  {
   "cell_type": "code",
   "execution_count": 14,
   "id": "b63b35a1",
   "metadata": {
    "execution": {
     "iopub.execute_input": "2023-09-19T23:44:17.014976Z",
     "iopub.status.busy": "2023-09-19T23:44:17.014606Z",
     "iopub.status.idle": "2023-09-19T23:44:18.214251Z",
     "shell.execute_reply": "2023-09-19T23:44:18.212735Z"
    },
    "papermill": {
     "duration": 1.227322,
     "end_time": "2023-09-19T23:44:18.217373",
     "exception": false,
     "start_time": "2023-09-19T23:44:16.990051",
     "status": "completed"
    },
    "tags": []
   },
   "outputs": [],
   "source": [
    "from sklearn.preprocessing import StandardScaler"
   ]
  },
  {
   "cell_type": "code",
   "execution_count": 15,
   "id": "a7989299",
   "metadata": {
    "execution": {
     "iopub.execute_input": "2023-09-19T23:44:18.278965Z",
     "iopub.status.busy": "2023-09-19T23:44:18.278305Z",
     "iopub.status.idle": "2023-09-19T23:44:18.287233Z",
     "shell.execute_reply": "2023-09-19T23:44:18.286347Z"
    },
    "papermill": {
     "duration": 0.045189,
     "end_time": "2023-09-19T23:44:18.289759",
     "exception": false,
     "start_time": "2023-09-19T23:44:18.244570",
     "status": "completed"
    },
    "tags": []
   },
   "outputs": [],
   "source": [
    "# Init the scaler then scale the numeric X data\n",
    "scaler = StandardScaler()\n",
    "X_numeric_scaled = scaler.fit_transform(X_encoded_numeric_subset)\n",
    "\n"
   ]
  },
  {
   "cell_type": "code",
   "execution_count": 16,
   "id": "fa0977ab",
   "metadata": {
    "execution": {
     "iopub.execute_input": "2023-09-19T23:44:18.357006Z",
     "iopub.status.busy": "2023-09-19T23:44:18.356009Z",
     "iopub.status.idle": "2023-09-19T23:44:18.365955Z",
     "shell.execute_reply": "2023-09-19T23:44:18.364614Z"
    },
    "papermill": {
     "duration": 0.045203,
     "end_time": "2023-09-19T23:44:18.369308",
     "exception": false,
     "start_time": "2023-09-19T23:44:18.324105",
     "status": "completed"
    },
    "tags": []
   },
   "outputs": [
    {
     "name": "stdout",
     "output_type": "stream",
     "text": [
      "(227, 18)\n",
      "[-7.82536053e-18  3.91268026e-17 -1.95634013e-17  2.34760816e-17\n",
      " -3.91268026e-18 -2.34760816e-17  2.66062258e-16  1.01729687e-16\n",
      "  1.93677673e-16  3.91268026e-18 -7.82536053e-17  1.56507211e-17\n",
      "  0.00000000e+00 -1.56507211e-16 -7.82536053e-18 -1.13467728e-16\n",
      " -1.09555047e-16 -7.82536053e-18]\n",
      "[1. 1. 1. 1. 1. 1. 1. 1. 1. 1. 1. 1. 1. 1. 1. 1. 1. 1.]\n"
     ]
    }
   ],
   "source": [
    "## Check that data has been scaled \n",
    "print(X_numeric_scaled.shape)\n",
    "print(X_numeric_scaled.mean(axis = 0))\n",
    "print(X_numeric_scaled.std(axis = 0))"
   ]
  },
  {
   "cell_type": "markdown",
   "id": "e489375a",
   "metadata": {
    "papermill": {
     "duration": 0.023055,
     "end_time": "2023-09-19T23:44:18.418745",
     "exception": false,
     "start_time": "2023-09-19T23:44:18.395690",
     "status": "completed"
    },
    "tags": []
   },
   "source": [
    "#### Now, rejoin the OHE with the standardised numeric data"
   ]
  },
  {
   "cell_type": "code",
   "execution_count": 17,
   "id": "3df7e37a",
   "metadata": {
    "execution": {
     "iopub.execute_input": "2023-09-19T23:44:18.466124Z",
     "iopub.status.busy": "2023-09-19T23:44:18.465509Z",
     "iopub.status.idle": "2023-09-19T23:44:18.483862Z",
     "shell.execute_reply": "2023-09-19T23:44:18.482179Z"
    },
    "papermill": {
     "duration": 0.045341,
     "end_time": "2023-09-19T23:44:18.486782",
     "exception": false,
     "start_time": "2023-09-19T23:44:18.441441",
     "status": "completed"
    },
    "tags": []
   },
   "outputs": [
    {
     "name": "stdout",
     "output_type": "stream",
     "text": [
      "   Population      Area  Pop._Density  Coastline  Net_migration  \\\n",
      "0    0.019695  0.027583     -0.199844  -0.293443       4.852624   \n",
      "1   -0.213877 -0.318797     -0.153603  -0.275974      -1.064261   \n",
      "2    0.035618  0.998421     -0.220490  -0.292889      -0.104537   \n",
      "3   -0.243834 -0.334779     -0.053514   0.514709      -4.400039   \n",
      "4   -0.243720 -0.334629     -0.137002  -0.293443       0.117425   \n",
      "\n",
      "   Infant_mortality  Literacy    Phones    Arable     Crops  ...  \\\n",
      "0          3.789050 -2.466929 -1.027952  0.039439 -0.481530  ...   \n",
      "1         -0.287313  0.162033 -0.726675  0.747141  0.036493  ...   \n",
      "2         -0.898119 -0.696935 -0.696105 -0.664314 -0.477829  ...   \n",
      "3         -0.640089  0.708649  0.107595 -0.910746 -0.490163  ...   \n",
      "4         -0.790415  0.864825  1.160734 -0.743298 -0.508664  ...   \n",
      "\n",
      "   Region_BALTICS  Region_C.W. OF IND. STATES  Region_EASTERN EUROPE  \\\n",
      "0           False                       False                  False   \n",
      "1           False                       False                   True   \n",
      "2           False                       False                  False   \n",
      "3           False                       False                  False   \n",
      "4           False                       False                  False   \n",
      "\n",
      "   Region_LATIN AMER. & CARIB  Region_NEAR EAST  Region_NORTHERN AFRICA  \\\n",
      "0                       False             False                   False   \n",
      "1                       False             False                   False   \n",
      "2                       False             False                    True   \n",
      "3                       False             False                   False   \n",
      "4                       False             False                   False   \n",
      "\n",
      "   Region_NORTHERN AMERICA  Region_OCEANIA  Region_SUB-SAHARAN AFRICA  \\\n",
      "0                    False           False                      False   \n",
      "1                    False           False                      False   \n",
      "2                    False           False                      False   \n",
      "3                    False            True                      False   \n",
      "4                    False           False                      False   \n",
      "\n",
      "   Region_WESTERN EUROPE  \n",
      "0                  False  \n",
      "1                  False  \n",
      "2                  False  \n",
      "3                  False  \n",
      "4                   True  \n",
      "\n",
      "[5 rows x 29 columns]\n"
     ]
    }
   ],
   "source": [
    "X_with_ohe[numeric_cols] = X_numeric_scaled\n",
    "print(X_with_ohe.head())"
   ]
  },
  {
   "cell_type": "code",
   "execution_count": 18,
   "id": "5989a41c",
   "metadata": {
    "execution": {
     "iopub.execute_input": "2023-09-19T23:44:18.537524Z",
     "iopub.status.busy": "2023-09-19T23:44:18.536002Z",
     "iopub.status.idle": "2023-09-19T23:44:18.542805Z",
     "shell.execute_reply": "2023-09-19T23:44:18.541544Z"
    },
    "papermill": {
     "duration": 0.034944,
     "end_time": "2023-09-19T23:44:18.545503",
     "exception": false,
     "start_time": "2023-09-19T23:44:18.510559",
     "status": "completed"
    },
    "tags": []
   },
   "outputs": [],
   "source": [
    "y = countries.GDP"
   ]
  },
  {
   "cell_type": "markdown",
   "id": "45d7a76e",
   "metadata": {
    "papermill": {
     "duration": 0.024072,
     "end_time": "2023-09-19T23:44:18.595081",
     "exception": false,
     "start_time": "2023-09-19T23:44:18.571009",
     "status": "completed"
    },
    "tags": []
   },
   "source": [
    "### Train test split"
   ]
  },
  {
   "cell_type": "code",
   "execution_count": 19,
   "id": "fbcfefc4",
   "metadata": {
    "execution": {
     "iopub.execute_input": "2023-09-19T23:44:18.647080Z",
     "iopub.status.busy": "2023-09-19T23:44:18.645859Z",
     "iopub.status.idle": "2023-09-19T23:44:18.773330Z",
     "shell.execute_reply": "2023-09-19T23:44:18.772128Z"
    },
    "papermill": {
     "duration": 0.155107,
     "end_time": "2023-09-19T23:44:18.776226",
     "exception": false,
     "start_time": "2023-09-19T23:44:18.621119",
     "status": "completed"
    },
    "tags": []
   },
   "outputs": [],
   "source": [
    "from sklearn.model_selection import train_test_split"
   ]
  },
  {
   "cell_type": "code",
   "execution_count": 20,
   "id": "a7be7c2c",
   "metadata": {
    "execution": {
     "iopub.execute_input": "2023-09-19T23:44:18.823841Z",
     "iopub.status.busy": "2023-09-19T23:44:18.823418Z",
     "iopub.status.idle": "2023-09-19T23:44:18.832053Z",
     "shell.execute_reply": "2023-09-19T23:44:18.830969Z"
    },
    "papermill": {
     "duration": 0.035597,
     "end_time": "2023-09-19T23:44:18.834712",
     "exception": false,
     "start_time": "2023-09-19T23:44:18.799115",
     "status": "completed"
    },
    "tags": []
   },
   "outputs": [],
   "source": [
    "X_train, X_test, y_train, y_test = train_test_split(X_with_ohe, y, test_size=0.2, random_state=42)\n"
   ]
  },
  {
   "cell_type": "code",
   "execution_count": 21,
   "id": "e14e2d84",
   "metadata": {
    "execution": {
     "iopub.execute_input": "2023-09-19T23:44:18.883598Z",
     "iopub.status.busy": "2023-09-19T23:44:18.883183Z",
     "iopub.status.idle": "2023-09-19T23:44:18.888557Z",
     "shell.execute_reply": "2023-09-19T23:44:18.887463Z"
    },
    "papermill": {
     "duration": 0.032799,
     "end_time": "2023-09-19T23:44:18.890869",
     "exception": false,
     "start_time": "2023-09-19T23:44:18.858070",
     "status": "completed"
    },
    "tags": []
   },
   "outputs": [
    {
     "name": "stdout",
     "output_type": "stream",
     "text": [
      "(181, 29)\n",
      "(46, 29)\n"
     ]
    }
   ],
   "source": [
    "## Check \n",
    "print(X_train.shape) ## 181 training samples \n",
    "print(X_test.shape) ## 46 test samples "
   ]
  },
  {
   "cell_type": "markdown",
   "id": "4163e0c1",
   "metadata": {
    "papermill": {
     "duration": 0.022301,
     "end_time": "2023-09-19T23:44:18.935731",
     "exception": false,
     "start_time": "2023-09-19T23:44:18.913430",
     "status": "completed"
    },
    "tags": []
   },
   "source": [
    "# Model building !"
   ]
  },
  {
   "cell_type": "markdown",
   "id": "b560808a",
   "metadata": {
    "papermill": {
     "duration": 0.023687,
     "end_time": "2023-09-19T23:44:18.982827",
     "exception": false,
     "start_time": "2023-09-19T23:44:18.959140",
     "status": "completed"
    },
    "tags": []
   },
   "source": [
    "## Model 1: Building a simple linear model with one input and one output layer of neural networks "
   ]
  },
  {
   "cell_type": "markdown",
   "id": "231d5093",
   "metadata": {
    "papermill": {
     "duration": 0.02226,
     "end_time": "2023-09-19T23:44:19.028409",
     "exception": false,
     "start_time": "2023-09-19T23:44:19.006149",
     "status": "completed"
    },
    "tags": []
   },
   "source": [
    "To mimic a linear model, where the output is modelled by a linear combination of each predictor without any non-linear activation function, we add one layer only with a single output."
   ]
  },
  {
   "cell_type": "code",
   "execution_count": 22,
   "id": "6b277b25",
   "metadata": {
    "execution": {
     "iopub.execute_input": "2023-09-19T23:44:19.075472Z",
     "iopub.status.busy": "2023-09-19T23:44:19.074476Z",
     "iopub.status.idle": "2023-09-19T23:44:27.935907Z",
     "shell.execute_reply": "2023-09-19T23:44:27.934754Z"
    },
    "papermill": {
     "duration": 8.888002,
     "end_time": "2023-09-19T23:44:27.938811",
     "exception": false,
     "start_time": "2023-09-19T23:44:19.050809",
     "status": "completed"
    },
    "tags": []
   },
   "outputs": [],
   "source": [
    "from tensorflow.keras.models import Sequential ## for the model\n",
    "from tensorflow.keras.layers import Dense ## for each fully connected layer of the model"
   ]
  },
  {
   "cell_type": "code",
   "execution_count": 23,
   "id": "9c2660bb",
   "metadata": {
    "execution": {
     "iopub.execute_input": "2023-09-19T23:44:27.987580Z",
     "iopub.status.busy": "2023-09-19T23:44:27.986591Z",
     "iopub.status.idle": "2023-09-19T23:44:28.170667Z",
     "shell.execute_reply": "2023-09-19T23:44:28.169323Z"
    },
    "papermill": {
     "duration": 0.212035,
     "end_time": "2023-09-19T23:44:28.174209",
     "exception": false,
     "start_time": "2023-09-19T23:44:27.962174",
     "status": "completed"
    },
    "tags": []
   },
   "outputs": [
    {
     "name": "stdout",
     "output_type": "stream",
     "text": [
      "Model: \"sequential\"\n",
      "_________________________________________________________________\n",
      " Layer (type)                Output Shape              Param #   \n",
      "=================================================================\n",
      " dense (Dense)               (None, 1)                 30        \n",
      "                                                                 \n",
      "=================================================================\n",
      "Total params: 30\n",
      "Trainable params: 30\n",
      "Non-trainable params: 0\n",
      "_________________________________________________________________\n"
     ]
    }
   ],
   "source": [
    "# Create a sequential model\n",
    "nn_model_linear = Sequential()\n",
    "\n",
    "# Add a dense layer \n",
    "nn_model_linear.add(Dense(units = 1, input_shape=(X_train.shape[1],),  ## the input shape should be the number of predictors in our training sample\n",
    "                          activation=None))\n",
    "\n",
    "## Get model summary\n",
    "nn_model_linear.summary()\n"
   ]
  },
  {
   "cell_type": "markdown",
   "id": "973521e7",
   "metadata": {
    "papermill": {
     "duration": 0.027489,
     "end_time": "2023-09-19T23:44:28.225346",
     "exception": false,
     "start_time": "2023-09-19T23:44:28.197857",
     "status": "completed"
    },
    "tags": []
   },
   "source": [
    "There are 30 parameters - one weight for each of our 29 predictors, followed by a bias (constant)"
   ]
  },
  {
   "cell_type": "markdown",
   "id": "94f04545",
   "metadata": {
    "papermill": {
     "duration": 0.031513,
     "end_time": "2023-09-19T23:44:28.289211",
     "exception": false,
     "start_time": "2023-09-19T23:44:28.257698",
     "status": "completed"
    },
    "tags": []
   },
   "source": [
    "### Visualise the neural network?"
   ]
  },
  {
   "cell_type": "code",
   "execution_count": 24,
   "id": "c6658abb",
   "metadata": {
    "execution": {
     "iopub.execute_input": "2023-09-19T23:44:28.343492Z",
     "iopub.status.busy": "2023-09-19T23:44:28.343034Z",
     "iopub.status.idle": "2023-09-19T23:44:41.711882Z",
     "shell.execute_reply": "2023-09-19T23:44:41.710388Z"
    },
    "papermill": {
     "duration": 13.397347,
     "end_time": "2023-09-19T23:44:41.714683",
     "exception": false,
     "start_time": "2023-09-19T23:44:28.317336",
     "status": "completed"
    },
    "tags": []
   },
   "outputs": [
    {
     "name": "stdout",
     "output_type": "stream",
     "text": [
      "Collecting visualkeras\r\n",
      "  Downloading visualkeras-0.0.2-py3-none-any.whl (12 kB)\r\n",
      "Requirement already satisfied: pillow>=6.2.0 in /opt/conda/lib/python3.10/site-packages (from visualkeras) (9.5.0)\r\n",
      "Requirement already satisfied: numpy>=1.18.1 in /opt/conda/lib/python3.10/site-packages (from visualkeras) (1.23.5)\r\n",
      "Collecting aggdraw>=1.3.11 (from visualkeras)\r\n",
      "  Downloading aggdraw-1.3.16-cp310-cp310-manylinux_2_17_x86_64.manylinux2014_x86_64.whl (993 kB)\r\n",
      "\u001b[2K     \u001b[90m━━━━━━━━━━━━━━━━━━━━━━━━━━━━━━━━━━━━━━\u001b[0m \u001b[32m993.0/993.0 kB\u001b[0m \u001b[31m13.1 MB/s\u001b[0m eta \u001b[36m0:00:00\u001b[0m\r\n",
      "\u001b[?25hInstalling collected packages: aggdraw, visualkeras\r\n",
      "Successfully installed aggdraw-1.3.16 visualkeras-0.0.2\r\n"
     ]
    }
   ],
   "source": [
    "!pip install visualkeras"
   ]
  },
  {
   "cell_type": "code",
   "execution_count": 25,
   "id": "77dc288e",
   "metadata": {
    "execution": {
     "iopub.execute_input": "2023-09-19T23:44:41.765565Z",
     "iopub.status.busy": "2023-09-19T23:44:41.764758Z",
     "iopub.status.idle": "2023-09-19T23:44:41.813766Z",
     "shell.execute_reply": "2023-09-19T23:44:41.812558Z"
    },
    "papermill": {
     "duration": 0.077325,
     "end_time": "2023-09-19T23:44:41.816476",
     "exception": false,
     "start_time": "2023-09-19T23:44:41.739151",
     "status": "completed"
    },
    "tags": []
   },
   "outputs": [],
   "source": [
    "import visualkeras"
   ]
  },
  {
   "cell_type": "code",
   "execution_count": 26,
   "id": "2e6244c2",
   "metadata": {
    "execution": {
     "iopub.execute_input": "2023-09-19T23:44:41.867179Z",
     "iopub.status.busy": "2023-09-19T23:44:41.866772Z",
     "iopub.status.idle": "2023-09-19T23:44:41.883258Z",
     "shell.execute_reply": "2023-09-19T23:44:41.882500Z"
    },
    "papermill": {
     "duration": 0.044483,
     "end_time": "2023-09-19T23:44:41.885350",
     "exception": false,
     "start_time": "2023-09-19T23:44:41.840867",
     "status": "completed"
    },
    "tags": []
   },
   "outputs": [
    {
     "data": {
      "image/png": "[encoded data removed]",
      "text/plain": [
       "<PIL.Image.Image image mode=RGBA size=47x27>"
      ]
     },
     "execution_count": 26,
     "metadata": {},
     "output_type": "execute_result"
    }
   ],
   "source": [
    "visualkeras.layered_view(nn_model_linear)"
   ]
  },
  {
   "cell_type": "markdown",
   "id": "8fa8bada",
   "metadata": {
    "papermill": {
     "duration": 0.024041,
     "end_time": "2023-09-19T23:44:41.933885",
     "exception": false,
     "start_time": "2023-09-19T23:44:41.909844",
     "status": "completed"
    },
    "tags": []
   },
   "source": [
    "The model is obviously very simple, since it contains no hidden layers"
   ]
  },
  {
   "cell_type": "markdown",
   "id": "58ebc12c",
   "metadata": {
    "papermill": {
     "duration": 0.024871,
     "end_time": "2023-09-19T23:44:41.982869",
     "exception": false,
     "start_time": "2023-09-19T23:44:41.957998",
     "status": "completed"
    },
    "tags": []
   },
   "source": [
    "#### Compile and train"
   ]
  },
  {
   "cell_type": "code",
   "execution_count": 27,
   "id": "349549fa",
   "metadata": {
    "execution": {
     "iopub.execute_input": "2023-09-19T23:44:42.033575Z",
     "iopub.status.busy": "2023-09-19T23:44:42.033155Z",
     "iopub.status.idle": "2023-09-19T23:44:42.043492Z",
     "shell.execute_reply": "2023-09-19T23:44:42.042615Z"
    },
    "papermill": {
     "duration": 0.038685,
     "end_time": "2023-09-19T23:44:42.045880",
     "exception": false,
     "start_time": "2023-09-19T23:44:42.007195",
     "status": "completed"
    },
    "tags": []
   },
   "outputs": [],
   "source": [
    "## Important before fitting: convert our data into the correct tensor type \n",
    "X_train = X_train.astype('float32')\n",
    "X_test = X_test.astype('float32')\n",
    "y_train = y_train.astype('float32')\n",
    "y_test = y_test.astype('float32')"
   ]
  },
  {
   "cell_type": "code",
   "execution_count": 28,
   "id": "a23f4bc4",
   "metadata": {
    "execution": {
     "iopub.execute_input": "2023-09-19T23:44:42.096971Z",
     "iopub.status.busy": "2023-09-19T23:44:42.096149Z",
     "iopub.status.idle": "2023-09-19T23:44:45.568670Z",
     "shell.execute_reply": "2023-09-19T23:44:45.567172Z"
    },
    "papermill": {
     "duration": 3.501184,
     "end_time": "2023-09-19T23:44:45.571178",
     "exception": false,
     "start_time": "2023-09-19T23:44:42.069994",
     "status": "completed"
    },
    "tags": []
   },
   "outputs": [
    {
     "name": "stdout",
     "output_type": "stream",
     "text": [
      "Epoch 1/100\n",
      "6/6 [==============================] - 1s 4ms/step - loss: 201879232.0000 - mae: 9878.7842 - mse: 201879232.0000\n",
      "Epoch 2/100\n",
      "6/6 [==============================] - 0s 2ms/step - loss: 201878464.0000 - mae: 9878.7705 - mse: 201878464.0000\n",
      "Epoch 3/100\n",
      "6/6 [==============================] - 0s 2ms/step - loss: 201877760.0000 - mae: 9878.7578 - mse: 201877760.0000\n",
      "Epoch 4/100\n",
      "6/6 [==============================] - 0s 3ms/step - loss: 201877104.0000 - mae: 9878.7461 - mse: 201877104.0000\n",
      "Epoch 5/100\n",
      "6/6 [==============================] - 0s 3ms/step - loss: 201876368.0000 - mae: 9878.7334 - mse: 201876368.0000\n",
      "Epoch 6/100\n",
      "6/6 [==============================] - 0s 2ms/step - loss: 201875680.0000 - mae: 9878.7227 - mse: 201875680.0000\n",
      "Epoch 7/100\n",
      "6/6 [==============================] - 0s 2ms/step - loss: 201875008.0000 - mae: 9878.7109 - mse: 201875008.0000\n",
      "Epoch 8/100\n",
      "6/6 [==============================] - 0s 2ms/step - loss: 201874256.0000 - mae: 9878.6963 - mse: 201874256.0000\n",
      "Epoch 9/100\n",
      "6/6 [==============================] - 0s 3ms/step - loss: 201873536.0000 - mae: 9878.6855 - mse: 201873536.0000\n",
      "Epoch 10/100\n",
      "6/6 [==============================] - 0s 3ms/step - loss: 201872832.0000 - mae: 9878.6719 - mse: 201872832.0000\n",
      "Epoch 11/100\n",
      "6/6 [==============================] - 0s 3ms/step - loss: 201872112.0000 - mae: 9878.6592 - mse: 201872112.0000\n",
      "Epoch 12/100\n",
      "6/6 [==============================] - 0s 3ms/step - loss: 201871408.0000 - mae: 9878.6475 - mse: 201871408.0000\n",
      "Epoch 13/100\n",
      "6/6 [==============================] - 0s 2ms/step - loss: 201870720.0000 - mae: 9878.6357 - mse: 201870720.0000\n",
      "Epoch 14/100\n",
      "6/6 [==============================] - 0s 2ms/step - loss: 201870000.0000 - mae: 9878.6230 - mse: 201870000.0000\n",
      "Epoch 15/100\n",
      "6/6 [==============================] - 0s 3ms/step - loss: 201869232.0000 - mae: 9878.6094 - mse: 201869232.0000\n",
      "Epoch 16/100\n",
      "6/6 [==============================] - 0s 3ms/step - loss: 201868592.0000 - mae: 9878.5977 - mse: 201868592.0000\n",
      "Epoch 17/100\n",
      "6/6 [==============================] - 0s 2ms/step - loss: 201867872.0000 - mae: 9878.5869 - mse: 201867872.0000\n",
      "Epoch 18/100\n",
      "6/6 [==============================] - 0s 2ms/step - loss: 201867136.0000 - mae: 9878.5742 - mse: 201867136.0000\n",
      "Epoch 19/100\n",
      "6/6 [==============================] - 0s 2ms/step - loss: 201866384.0000 - mae: 9878.5605 - mse: 201866384.0000\n",
      "Epoch 20/100\n",
      "6/6 [==============================] - 0s 3ms/step - loss: 201865680.0000 - mae: 9878.5488 - mse: 201865680.0000\n",
      "Epoch 21/100\n",
      "6/6 [==============================] - 0s 3ms/step - loss: 201864976.0000 - mae: 9878.5361 - mse: 201865008.0000\n",
      "Epoch 22/100\n",
      "6/6 [==============================] - 0s 2ms/step - loss: 201864320.0000 - mae: 9878.5254 - mse: 201864320.0000\n",
      "Epoch 23/100\n",
      "6/6 [==============================] - 0s 3ms/step - loss: 201863536.0000 - mae: 9878.5107 - mse: 201863536.0000\n",
      "Epoch 24/100\n",
      "6/6 [==============================] - 0s 2ms/step - loss: 201862832.0000 - mae: 9878.4980 - mse: 201862832.0000\n",
      "Epoch 25/100\n",
      "6/6 [==============================] - 0s 3ms/step - loss: 201862128.0000 - mae: 9878.4873 - mse: 201862128.0000\n",
      "Epoch 26/100\n",
      "6/6 [==============================] - 0s 3ms/step - loss: 201861376.0000 - mae: 9878.4727 - mse: 201861376.0000\n",
      "Epoch 27/100\n",
      "6/6 [==============================] - 0s 2ms/step - loss: 201860720.0000 - mae: 9878.4629 - mse: 201860720.0000\n",
      "Epoch 28/100\n",
      "6/6 [==============================] - 0s 2ms/step - loss: 201860000.0000 - mae: 9878.4512 - mse: 201860000.0000\n",
      "Epoch 29/100\n",
      "6/6 [==============================] - 0s 2ms/step - loss: 201859248.0000 - mae: 9878.4375 - mse: 201859248.0000\n",
      "Epoch 30/100\n",
      "6/6 [==============================] - 0s 3ms/step - loss: 201858592.0000 - mae: 9878.4258 - mse: 201858592.0000\n",
      "Epoch 31/100\n",
      "6/6 [==============================] - 0s 3ms/step - loss: 201857856.0000 - mae: 9878.4131 - mse: 201857856.0000\n",
      "Epoch 32/100\n",
      "6/6 [==============================] - 0s 3ms/step - loss: 201857152.0000 - mae: 9878.3994 - mse: 201857152.0000\n",
      "Epoch 33/100\n",
      "6/6 [==============================] - 0s 2ms/step - loss: 201856464.0000 - mae: 9878.3896 - mse: 201856448.0000\n",
      "Epoch 34/100\n",
      "6/6 [==============================] - 0s 3ms/step - loss: 201855728.0000 - mae: 9878.3760 - mse: 201855728.0000\n",
      "Epoch 35/100\n",
      "6/6 [==============================] - 0s 3ms/step - loss: 201854992.0000 - mae: 9878.3643 - mse: 201854992.0000\n",
      "Epoch 36/100\n",
      "6/6 [==============================] - 0s 3ms/step - loss: 201854320.0000 - mae: 9878.3525 - mse: 201854320.0000\n",
      "Epoch 37/100\n",
      "6/6 [==============================] - 0s 3ms/step - loss: 201853600.0000 - mae: 9878.3408 - mse: 201853600.0000\n",
      "Epoch 38/100\n",
      "6/6 [==============================] - 0s 3ms/step - loss: 201852864.0000 - mae: 9878.3271 - mse: 201852864.0000\n",
      "Epoch 39/100\n",
      "6/6 [==============================] - 0s 3ms/step - loss: 201852144.0000 - mae: 9878.3145 - mse: 201852144.0000\n",
      "Epoch 40/100\n",
      "6/6 [==============================] - 0s 3ms/step - loss: 201851488.0000 - mae: 9878.3027 - mse: 201851488.0000\n",
      "Epoch 41/100\n",
      "6/6 [==============================] - 0s 3ms/step - loss: 201850768.0000 - mae: 9878.2900 - mse: 201850768.0000\n",
      "Epoch 42/100\n",
      "6/6 [==============================] - 0s 4ms/step - loss: 201850064.0000 - mae: 9878.2783 - mse: 201850064.0000\n",
      "Epoch 43/100\n",
      "6/6 [==============================] - 0s 4ms/step - loss: 201849360.0000 - mae: 9878.2656 - mse: 201849360.0000\n",
      "Epoch 44/100\n",
      "6/6 [==============================] - 0s 3ms/step - loss: 201848656.0000 - mae: 9878.2539 - mse: 201848656.0000\n",
      "Epoch 45/100\n",
      "6/6 [==============================] - 0s 4ms/step - loss: 201847968.0000 - mae: 9878.2422 - mse: 201847968.0000\n",
      "Epoch 46/100\n",
      "6/6 [==============================] - 0s 3ms/step - loss: 201847184.0000 - mae: 9878.2285 - mse: 201847184.0000\n",
      "Epoch 47/100\n",
      "6/6 [==============================] - 0s 3ms/step - loss: 201846560.0000 - mae: 9878.2158 - mse: 201846560.0000\n",
      "Epoch 48/100\n",
      "6/6 [==============================] - 0s 3ms/step - loss: 201845792.0000 - mae: 9878.2041 - mse: 201845792.0000\n",
      "Epoch 49/100\n",
      "6/6 [==============================] - 0s 3ms/step - loss: 201845136.0000 - mae: 9878.1934 - mse: 201845136.0000\n",
      "Epoch 50/100\n",
      "6/6 [==============================] - 0s 3ms/step - loss: 201844400.0000 - mae: 9878.1797 - mse: 201844400.0000\n",
      "Epoch 51/100\n",
      "6/6 [==============================] - 0s 3ms/step - loss: 201843664.0000 - mae: 9878.1670 - mse: 201843664.0000\n",
      "Epoch 52/100\n",
      "6/6 [==============================] - 0s 3ms/step - loss: 201842976.0000 - mae: 9878.1562 - mse: 201842976.0000\n",
      "Epoch 53/100\n",
      "6/6 [==============================] - 0s 3ms/step - loss: 201842256.0000 - mae: 9878.1436 - mse: 201842256.0000\n",
      "Epoch 54/100\n",
      "6/6 [==============================] - 0s 2ms/step - loss: 201841552.0000 - mae: 9878.1309 - mse: 201841552.0000\n",
      "Epoch 55/100\n",
      "6/6 [==============================] - 0s 2ms/step - loss: 201840880.0000 - mae: 9878.1182 - mse: 201840880.0000\n",
      "Epoch 56/100\n",
      "6/6 [==============================] - 0s 3ms/step - loss: 201840112.0000 - mae: 9878.1045 - mse: 201840112.0000\n",
      "Epoch 57/100\n",
      "6/6 [==============================] - 0s 3ms/step - loss: 201839472.0000 - mae: 9878.0957 - mse: 201839472.0000\n",
      "Epoch 58/100\n",
      "6/6 [==============================] - 0s 3ms/step - loss: 201838720.0000 - mae: 9878.0820 - mse: 201838720.0000\n",
      "Epoch 59/100\n",
      "6/6 [==============================] - 0s 3ms/step - loss: 201838064.0000 - mae: 9878.0703 - mse: 201838064.0000\n",
      "Epoch 60/100\n",
      "6/6 [==============================] - 0s 3ms/step - loss: 201837280.0000 - mae: 9878.0576 - mse: 201837280.0000\n",
      "Epoch 61/100\n",
      "6/6 [==============================] - 0s 2ms/step - loss: 201836608.0000 - mae: 9878.0449 - mse: 201836608.0000\n",
      "Epoch 62/100\n",
      "6/6 [==============================] - 0s 3ms/step - loss: 201835872.0000 - mae: 9878.0322 - mse: 201835872.0000\n",
      "Epoch 63/100\n",
      "6/6 [==============================] - 0s 3ms/step - loss: 201835168.0000 - mae: 9878.0205 - mse: 201835168.0000\n",
      "Epoch 64/100\n",
      "6/6 [==============================] - 0s 3ms/step - loss: 201834448.0000 - mae: 9878.0078 - mse: 201834448.0000\n",
      "Epoch 65/100\n",
      "6/6 [==============================] - 0s 3ms/step - loss: 201833696.0000 - mae: 9877.9941 - mse: 201833696.0000\n",
      "Epoch 66/100\n",
      "6/6 [==============================] - 0s 2ms/step - loss: 201833040.0000 - mae: 9877.9834 - mse: 201833040.0000\n",
      "Epoch 67/100\n",
      "6/6 [==============================] - 0s 3ms/step - loss: 201832320.0000 - mae: 9877.9707 - mse: 201832320.0000\n",
      "Epoch 68/100\n",
      "6/6 [==============================] - 0s 3ms/step - loss: 201831600.0000 - mae: 9877.9590 - mse: 201831600.0000\n",
      "Epoch 69/100\n",
      "6/6 [==============================] - 0s 3ms/step - loss: 201830896.0000 - mae: 9877.9473 - mse: 201830896.0000\n",
      "Epoch 70/100\n",
      "6/6 [==============================] - 0s 2ms/step - loss: 201830192.0000 - mae: 9877.9336 - mse: 201830192.0000\n",
      "Epoch 71/100\n",
      "6/6 [==============================] - 0s 2ms/step - loss: 201829488.0000 - mae: 9877.9238 - mse: 201829488.0000\n",
      "Epoch 72/100\n",
      "6/6 [==============================] - 0s 3ms/step - loss: 201828768.0000 - mae: 9877.9102 - mse: 201828768.0000\n",
      "Epoch 73/100\n",
      "6/6 [==============================] - 0s 3ms/step - loss: 201828048.0000 - mae: 9877.8975 - mse: 201828048.0000\n",
      "Epoch 74/100\n",
      "6/6 [==============================] - 0s 3ms/step - loss: 201827296.0000 - mae: 9877.8838 - mse: 201827296.0000\n",
      "Epoch 75/100\n",
      "6/6 [==============================] - 0s 3ms/step - loss: 201826640.0000 - mae: 9877.8730 - mse: 201826640.0000\n",
      "Epoch 76/100\n",
      "6/6 [==============================] - 0s 3ms/step - loss: 201825936.0000 - mae: 9877.8613 - mse: 201825936.0000\n",
      "Epoch 77/100\n",
      "6/6 [==============================] - 0s 3ms/step - loss: 201825216.0000 - mae: 9877.8477 - mse: 201825216.0000\n",
      "Epoch 78/100\n",
      "6/6 [==============================] - 0s 3ms/step - loss: 201824496.0000 - mae: 9877.8359 - mse: 201824496.0000\n",
      "Epoch 79/100\n",
      "6/6 [==============================] - 0s 3ms/step - loss: 201823792.0000 - mae: 9877.8242 - mse: 201823792.0000\n",
      "Epoch 80/100\n",
      "6/6 [==============================] - 0s 3ms/step - loss: 201823040.0000 - mae: 9877.8105 - mse: 201823040.0000\n",
      "Epoch 81/100\n",
      "6/6 [==============================] - 0s 3ms/step - loss: 201822368.0000 - mae: 9877.7988 - mse: 201822368.0000\n",
      "Epoch 82/100\n",
      "6/6 [==============================] - 0s 3ms/step - loss: 201821664.0000 - mae: 9877.7861 - mse: 201821664.0000\n",
      "Epoch 83/100\n",
      "6/6 [==============================] - 0s 3ms/step - loss: 201820944.0000 - mae: 9877.7744 - mse: 201820944.0000\n",
      "Epoch 84/100\n",
      "6/6 [==============================] - 0s 2ms/step - loss: 201820256.0000 - mae: 9877.7617 - mse: 201820256.0000\n",
      "Epoch 85/100\n",
      "6/6 [==============================] - 0s 3ms/step - loss: 201819568.0000 - mae: 9877.7500 - mse: 201819568.0000\n",
      "Epoch 86/100\n",
      "6/6 [==============================] - 0s 3ms/step - loss: 201818832.0000 - mae: 9877.7383 - mse: 201818832.0000\n",
      "Epoch 87/100\n",
      "6/6 [==============================] - 0s 3ms/step - loss: 201818112.0000 - mae: 9877.7246 - mse: 201818112.0000\n",
      "Epoch 88/100\n",
      "6/6 [==============================] - 0s 2ms/step - loss: 201817456.0000 - mae: 9877.7139 - mse: 201817456.0000\n",
      "Epoch 89/100\n",
      "6/6 [==============================] - 0s 3ms/step - loss: 201816704.0000 - mae: 9877.7002 - mse: 201816704.0000\n",
      "Epoch 90/100\n",
      "6/6 [==============================] - 0s 2ms/step - loss: 201816048.0000 - mae: 9877.6895 - mse: 201816048.0000\n",
      "Epoch 91/100\n",
      "6/6 [==============================] - 0s 3ms/step - loss: 201815280.0000 - mae: 9877.6758 - mse: 201815280.0000\n",
      "Epoch 92/100\n",
      "6/6 [==============================] - 0s 3ms/step - loss: 201814560.0000 - mae: 9877.6641 - mse: 201814560.0000\n",
      "Epoch 93/100\n",
      "6/6 [==============================] - 0s 2ms/step - loss: 201813840.0000 - mae: 9877.6514 - mse: 201813840.0000\n",
      "Epoch 94/100\n",
      "6/6 [==============================] - 0s 3ms/step - loss: 201813184.0000 - mae: 9877.6406 - mse: 201813184.0000\n",
      "Epoch 95/100\n",
      "6/6 [==============================] - 0s 3ms/step - loss: 201812416.0000 - mae: 9877.6260 - mse: 201812416.0000\n",
      "Epoch 96/100\n",
      "6/6 [==============================] - 0s 3ms/step - loss: 201811760.0000 - mae: 9877.6143 - mse: 201811760.0000\n",
      "Epoch 97/100\n",
      "6/6 [==============================] - 0s 3ms/step - loss: 201810976.0000 - mae: 9877.6025 - mse: 201810976.0000\n",
      "Epoch 98/100\n",
      "6/6 [==============================] - 0s 3ms/step - loss: 201810304.0000 - mae: 9877.5898 - mse: 201810304.0000\n",
      "Epoch 99/100\n",
      "6/6 [==============================] - 0s 2ms/step - loss: 201809552.0000 - mae: 9877.5791 - mse: 201809552.0000\n",
      "Epoch 100/100\n",
      "6/6 [==============================] - 0s 2ms/step - loss: 201808896.0000 - mae: 9877.5674 - mse: 201808896.0000\n",
      "2/2 [==============================] - 0s 6ms/step - loss: 161509024.0000 - mae: 8853.9102 - mse: 161509024.0000\n",
      "Accuracy: 8853.91015625\n"
     ]
    }
   ],
   "source": [
    "## Compile, use MSE since regression\n",
    "nn_model_linear.compile(optimizer = 'adam', \n",
    "                       loss = 'mean_squared_error',\n",
    "                       metrics = ['mae', 'mse'])\n",
    "\n",
    "## Train model \n",
    "# Train your model for 20 epochs\n",
    "nn_model_linear.fit(X_train, y_train, epochs = 100)\n",
    "\n",
    "# Evaluate your model accuracy on the test set\n",
    "accuracy = nn_model_linear.evaluate(X_test, y_test)[1]\n",
    "\n",
    "# Print accuracy\n",
    "print('Accuracy:', accuracy)"
   ]
  },
  {
   "cell_type": "markdown",
   "id": "91570445",
   "metadata": {
    "papermill": {
     "duration": 0.043207,
     "end_time": "2023-09-19T23:44:45.657447",
     "exception": false,
     "start_time": "2023-09-19T23:44:45.614240",
     "status": "completed"
    },
    "tags": []
   },
   "source": [
    "### Test set results"
   ]
  },
  {
   "cell_type": "code",
   "execution_count": 29,
   "id": "3a9f919d",
   "metadata": {
    "execution": {
     "iopub.execute_input": "2023-09-19T23:44:45.747772Z",
     "iopub.status.busy": "2023-09-19T23:44:45.747379Z",
     "iopub.status.idle": "2023-09-19T23:44:45.863215Z",
     "shell.execute_reply": "2023-09-19T23:44:45.862006Z"
    },
    "papermill": {
     "duration": 0.164623,
     "end_time": "2023-09-19T23:44:45.865889",
     "exception": false,
     "start_time": "2023-09-19T23:44:45.701266",
     "status": "completed"
    },
    "tags": []
   },
   "outputs": [
    {
     "name": "stdout",
     "output_type": "stream",
     "text": [
      "2/2 [==============================] - 0s 6ms/step - loss: 161509024.0000 - mae: 8853.9102 - mse: 161509024.0000\n"
     ]
    },
    {
     "data": {
      "text/plain": [
       "8853.91015625"
      ]
     },
     "execution_count": 29,
     "metadata": {},
     "output_type": "execute_result"
    }
   ],
   "source": [
    "## Evaluate on test set\n",
    "nn_model_linear.evaluate(X_test, y_test)[1]"
   ]
  },
  {
   "cell_type": "markdown",
   "id": "cf65eef7",
   "metadata": {
    "execution": {
     "iopub.execute_input": "2023-09-18T12:25:24.402361Z",
     "iopub.status.busy": "2023-09-18T12:25:24.401920Z",
     "iopub.status.idle": "2023-09-18T12:25:24.413483Z",
     "shell.execute_reply": "2023-09-18T12:25:24.412471Z",
     "shell.execute_reply.started": "2023-09-18T12:25:24.402326Z"
    },
    "papermill": {
     "duration": 0.044071,
     "end_time": "2023-09-19T23:44:45.953074",
     "exception": false,
     "start_time": "2023-09-19T23:44:45.909003",
     "status": "completed"
    },
    "tags": []
   },
   "source": [
    "### Model results"
   ]
  },
  {
   "cell_type": "code",
   "execution_count": 30,
   "id": "59858dd0",
   "metadata": {
    "execution": {
     "iopub.execute_input": "2023-09-19T23:44:46.042930Z",
     "iopub.status.busy": "2023-09-19T23:44:46.041897Z",
     "iopub.status.idle": "2023-09-19T23:44:46.054088Z",
     "shell.execute_reply": "2023-09-19T23:44:46.052501Z"
    },
    "papermill": {
     "duration": 0.059447,
     "end_time": "2023-09-19T23:44:46.056851",
     "exception": false,
     "start_time": "2023-09-19T23:44:45.997404",
     "status": "completed"
    },
    "tags": []
   },
   "outputs": [
    {
     "name": "stdout",
     "output_type": "stream",
     "text": [
      "[[ 0.15696888]\n",
      " [ 0.46151847]\n",
      " [ 0.59032834]\n",
      " [-0.03710547]\n",
      " [ 0.7799941 ]\n",
      " [-0.3936043 ]\n",
      " [ 0.33862138]\n",
      " [ 0.6792382 ]\n",
      " [-0.275383  ]\n",
      " [-0.11318868]\n",
      " [-0.19445899]\n",
      " [-0.82836026]\n",
      " [-0.2602799 ]\n",
      " [-0.1001996 ]\n",
      " [-1.0138092 ]\n",
      " [-0.01302857]\n",
      " [ 0.3285463 ]\n",
      " [-0.12596822]\n",
      " [ 0.49917665]\n",
      " [ 0.14876193]\n",
      " [ 0.45378038]\n",
      " [ 0.18726584]\n",
      " [ 0.66115326]\n",
      " [ 0.57733876]\n",
      " [ 0.48541734]\n",
      " [ 0.5440641 ]\n",
      " [ 0.14826334]\n",
      " [ 0.6147276 ]\n",
      " [ 0.24356142]]\n",
      "29\n",
      "[0.59113705]\n"
     ]
    }
   ],
   "source": [
    "weights,bias = nn_model_linear.layers[0].get_weights()\n",
    "print(weights)\n",
    "print(len(weights))\n",
    "\n",
    "print(bias)"
   ]
  },
  {
   "cell_type": "code",
   "execution_count": 31,
   "id": "b1b03ebe",
   "metadata": {
    "execution": {
     "iopub.execute_input": "2023-09-19T23:44:46.147736Z",
     "iopub.status.busy": "2023-09-19T23:44:46.147352Z",
     "iopub.status.idle": "2023-09-19T23:44:46.154915Z",
     "shell.execute_reply": "2023-09-19T23:44:46.153707Z"
    },
    "papermill": {
     "duration": 0.055835,
     "end_time": "2023-09-19T23:44:46.157388",
     "exception": false,
     "start_time": "2023-09-19T23:44:46.101553",
     "status": "completed"
    },
    "tags": []
   },
   "outputs": [
    {
     "name": "stdout",
     "output_type": "stream",
     "text": [
      "(29, 1)\n",
      "(1,)\n",
      "(1, 1)\n",
      "(30, 1)\n"
     ]
    }
   ],
   "source": [
    "## ============= Combine all the estimated parameters together (i.e. combine weights and bias)\n",
    "print(weights.shape)\n",
    "print(bias.shape)\n",
    "\n",
    "## In order to concatenate them, we need to reshape one to match the other -- we will reshape the bias to match a 2D shape via reshape(-1,1)\n",
    "print(bias.reshape(-1,1).shape)\n",
    "\n",
    "bias_weights = np.concatenate([bias.reshape(-1,1), weights]) ## to concatenate them, they need to both be the same shape -- weights is currently \n",
    "print(bias_weights.shape)\n",
    "\n",
    "## ============== Add the 'bias' string element into X_train.columns\n",
    "all_predictor_names = ['Bias'] + X_train.columns.tolist() "
   ]
  },
  {
   "cell_type": "code",
   "execution_count": 32,
   "id": "f6300792",
   "metadata": {
    "execution": {
     "iopub.execute_input": "2023-09-19T23:44:46.246025Z",
     "iopub.status.busy": "2023-09-19T23:44:46.245634Z",
     "iopub.status.idle": "2023-09-19T23:44:46.255957Z",
     "shell.execute_reply": "2023-09-19T23:44:46.254818Z"
    },
    "papermill": {
     "duration": 0.057247,
     "end_time": "2023-09-19T23:44:46.258265",
     "exception": false,
     "start_time": "2023-09-19T23:44:46.201018",
     "status": "completed"
    },
    "tags": []
   },
   "outputs": [
    {
     "name": "stdout",
     "output_type": "stream",
     "text": [
      "                     Predictors  Estimated_values\n",
      "0                          Bias          0.591137\n",
      "1                    Population          0.156969\n",
      "2                          Area          0.461518\n",
      "3                  Pop._Density          0.590328\n",
      "4                     Coastline         -0.037105\n",
      "5                 Net_migration          0.779994\n",
      "6              Infant_mortality         -0.393604\n",
      "7                      Literacy          0.338621\n",
      "8                        Phones          0.679238\n",
      "9                        Arable         -0.275383\n",
      "10                        Crops         -0.113189\n",
      "11                        Other         -0.194459\n",
      "12                      Climate         -0.828360\n",
      "13                    Birthrate         -0.260280\n",
      "14                    Deathrate         -0.100200\n",
      "15                  Agriculture         -1.013809\n",
      "16                     Industry         -0.013029\n",
      "17                      Service          0.328546\n",
      "18                   landlocked         -0.125968\n",
      "19  Region_ASIA (EX. NEAR EAST)          0.499177\n",
      "20               Region_BALTICS          0.148762\n",
      "21   Region_C.W. OF IND. STATES          0.453780\n",
      "22        Region_EASTERN EUROPE          0.187266\n",
      "23   Region_LATIN AMER. & CARIB          0.661153\n",
      "24             Region_NEAR EAST          0.577339\n",
      "25       Region_NORTHERN AFRICA          0.485417\n",
      "26      Region_NORTHERN AMERICA          0.544064\n",
      "27               Region_OCEANIA          0.148263\n",
      "28    Region_SUB-SAHARAN AFRICA          0.614728\n",
      "29        Region_WESTERN EUROPE          0.243561\n"
     ]
    }
   ],
   "source": [
    "coefficients_df = pd.DataFrame({'Predictors' : all_predictor_names, 'Estimated_values': bias_weights.ravel()}) ## ravel to flatten any multidimen array to 1D\n",
    "print(coefficients_df)"
   ]
  },
  {
   "cell_type": "markdown",
   "id": "379a98bc",
   "metadata": {
    "execution": {
     "iopub.execute_input": "2023-09-18T12:30:02.071203Z",
     "iopub.status.busy": "2023-09-18T12:30:02.070742Z",
     "iopub.status.idle": "2023-09-18T12:30:02.130429Z",
     "shell.execute_reply": "2023-09-18T12:30:02.128462Z",
     "shell.execute_reply.started": "2023-09-18T12:30:02.071165Z"
    },
    "papermill": {
     "duration": 0.043126,
     "end_time": "2023-09-19T23:44:46.345546",
     "exception": false,
     "start_time": "2023-09-19T23:44:46.302420",
     "status": "completed"
    },
    "tags": []
   },
   "source": [
    "# Compare to a traditional linear regression model via SM "
   ]
  },
  {
   "cell_type": "code",
   "execution_count": 33,
   "id": "531f06c0",
   "metadata": {
    "execution": {
     "iopub.execute_input": "2023-09-19T23:44:46.434364Z",
     "iopub.status.busy": "2023-09-19T23:44:46.433966Z",
     "iopub.status.idle": "2023-09-19T23:44:48.153861Z",
     "shell.execute_reply": "2023-09-19T23:44:48.152613Z"
    },
    "papermill": {
     "duration": 1.767697,
     "end_time": "2023-09-19T23:44:48.156566",
     "exception": false,
     "start_time": "2023-09-19T23:44:46.388869",
     "status": "completed"
    },
    "tags": []
   },
   "outputs": [
    {
     "name": "stdout",
     "output_type": "stream",
     "text": [
      "                            OLS Regression Results                            \n",
      "==============================================================================\n",
      "Dep. Variable:                    GDP   R-squared:                       0.796\n",
      "Model:                            OLS   Adj. R-squared:                  0.758\n",
      "Method:                 Least Squares   F-statistic:                     21.12\n",
      "Date:                Tue, 19 Sep 2023   Prob (F-statistic):           3.04e-39\n",
      "Time:                        23:44:48   Log-Likelihood:                -1784.0\n",
      "No. Observations:                 181   AIC:                             3626.\n",
      "Df Residuals:                     152   BIC:                             3719.\n",
      "Df Model:                          28                                         \n",
      "Covariance Type:            nonrobust                                         \n",
      "===============================================================================================\n",
      "                                  coef    std err          t      P>|t|      [0.025      0.975]\n",
      "-----------------------------------------------------------------------------------------------\n",
      "const                        8623.9022    532.033     16.209      0.000    7572.768    9675.037\n",
      "Population                   -398.1666    525.643     -0.757      0.450   -1436.676     640.343\n",
      "Area                          334.0509    449.592      0.743      0.459    -554.205    1222.307\n",
      "Pop._Density                 -238.6230    416.167     -0.573      0.567   -1060.841     583.595\n",
      "Coastline                    -159.6042    435.979     -0.366      0.715   -1020.965     701.757\n",
      "Net_migration                1415.6947    412.238      3.434      0.001     601.238    2230.151\n",
      "Infant_mortality             -679.5351    650.750     -1.044      0.298   -1965.219     606.148\n",
      "Literacy                     1280.4881    703.525      1.820      0.071    -109.462    2670.438\n",
      "Phones                       5588.0115    744.625      7.504      0.000    4116.860    7059.163\n",
      "Arable                        186.5160    470.142      0.397      0.692    -742.342    1115.374\n",
      "Crops                        -381.9308    447.788     -0.853      0.395   -1266.623     502.761\n",
      "Other                        1086.0067    454.341      2.390      0.018     188.368    1983.646\n",
      "Climate                       -43.2386    613.775     -0.070      0.944   -1255.870    1169.393\n",
      "Birthrate                     -69.5287    721.085     -0.096      0.923   -1494.172    1355.115\n",
      "Deathrate                     -60.1278    518.333     -0.116      0.908   -1084.196     963.940\n",
      "Agriculture                  -939.1408    523.204     -1.795      0.075   -1972.831      94.550\n",
      "Industry                      620.8252    434.071      1.430      0.155    -236.767    1478.417\n",
      "Service                       415.6088    449.710      0.924      0.357    -472.880    1304.097\n",
      "landlocked                    654.3641    464.262      1.409      0.161    -262.876    1571.604\n",
      "Region_ASIA (EX. NEAR EAST)  1420.8705   1282.346      1.108      0.270   -1112.653    3954.394\n",
      "Region_BALTICS              -2182.1134   3459.968     -0.631      0.529   -9017.951    4653.724\n",
      "Region_C.W. OF IND. STATES  -4177.5064   2024.692     -2.063      0.041   -8177.678    -177.335\n",
      "Region_EASTERN EUROPE       -2047.5258   1755.919     -1.166      0.245   -5516.684    1421.632\n",
      "Region_LATIN AMER. & CARIB  -1191.1968    955.829     -1.246      0.215   -3079.621     697.228\n",
      "Region_NEAR EAST              834.5884   1599.174      0.522      0.603   -2324.889    3994.066\n",
      "Region_NORTHERN AFRICA       1693.4938   2366.579      0.716      0.475   -2982.141    6369.129\n",
      "Region_NORTHERN AMERICA      4337.6865   2559.599      1.695      0.092    -719.297    9394.670\n",
      "Region_OCEANIA               2363.7422   1430.099      1.653      0.100    -461.697    5189.181\n",
      "Region_SUB-SAHARAN AFRICA    1268.7070   1377.574      0.921      0.359   -1452.957    3990.371\n",
      "Region_WESTERN EUROPE        6303.1562   1483.640      4.248      0.000    3371.938    9234.374\n",
      "==============================================================================\n",
      "Omnibus:                       50.494   Durbin-Watson:                   1.993\n",
      "Prob(Omnibus):                  0.000   Jarque-Bera (JB):              396.229\n",
      "Skew:                           0.747   Prob(JB):                     9.12e-87\n",
      "Kurtosis:                      10.093   Cond. No.                     1.72e+16\n",
      "==============================================================================\n",
      "\n",
      "Notes:\n",
      "[1] Standard Errors assume that the covariance matrix of the errors is correctly specified.\n",
      "[2] The smallest eigenvalue is 2.32e-30. This might indicate that there are\n",
      "strong multicollinearity problems or that the design matrix is singular.\n"
     ]
    }
   ],
   "source": [
    "import statsmodels.api as sm\n",
    "\n",
    "## Adding a constant to predictor set\n",
    "X_train_with_const = sm.add_constant(X_train)\n",
    "\n",
    "## Fit the OLS model\n",
    "ols_model = sm.OLS(y_train, X_train_with_const).fit()\n",
    "\n",
    "## Check coefficients \n",
    "print(ols_model.summary())\n",
    "\n",
    "## Save parameters \n",
    "ols_params = (ols_model.params.values)"
   ]
  },
  {
   "cell_type": "code",
   "execution_count": 34,
   "id": "9c7f09ee",
   "metadata": {
    "execution": {
     "iopub.execute_input": "2023-09-19T23:44:48.253225Z",
     "iopub.status.busy": "2023-09-19T23:44:48.252818Z",
     "iopub.status.idle": "2023-09-19T23:44:48.261657Z",
     "shell.execute_reply": "2023-09-19T23:44:48.260381Z"
    },
    "papermill": {
     "duration": 0.0641,
     "end_time": "2023-09-19T23:44:48.264174",
     "exception": false,
     "start_time": "2023-09-19T23:44:48.200074",
     "status": "completed"
    },
    "tags": []
   },
   "outputs": [
    {
     "name": "stdout",
     "output_type": "stream",
     "text": [
      "[ 8623.90219851  -398.16661896   334.0508501   -238.62302199\n",
      "  -159.60419394  1415.69474621  -679.53505956  1280.48812655\n",
      "  5588.01153824   186.51602828  -381.93082145  1086.00670177\n",
      "   -43.23862975   -69.52870107   -60.12775775  -939.1407671\n",
      "   620.82519605   415.60880015   654.36413803  1420.8704619\n",
      " -2182.11341512 -4177.50638418 -2047.52580907 -1191.19681783\n",
      "   834.58844128  1693.493774    4337.68652757  2363.74224251\n",
      "  1268.70701169  6303.15616577]\n",
      "30\n"
     ]
    }
   ],
   "source": [
    "## Check OLS params from SM\n",
    "print(ols_params)\n",
    "print(len(ols_params))\n",
    "\n",
    "## Append into results_df\n",
    "coefficients_df['OLS_estimated_values'] = ols_params"
   ]
  },
  {
   "cell_type": "code",
   "execution_count": 35,
   "id": "556a3884",
   "metadata": {
    "execution": {
     "iopub.execute_input": "2023-09-19T23:44:48.365556Z",
     "iopub.status.busy": "2023-09-19T23:44:48.365134Z",
     "iopub.status.idle": "2023-09-19T23:44:48.376187Z",
     "shell.execute_reply": "2023-09-19T23:44:48.374613Z"
    },
    "papermill": {
     "duration": 0.059678,
     "end_time": "2023-09-19T23:44:48.378643",
     "exception": false,
     "start_time": "2023-09-19T23:44:48.318965",
     "status": "completed"
    },
    "tags": []
   },
   "outputs": [
    {
     "name": "stdout",
     "output_type": "stream",
     "text": [
      "                     Predictors  NN_estimated_values  OLS_estimated_values\n",
      "0                          Bias             0.591137           8623.902199\n",
      "1                    Population             0.156969           -398.166619\n",
      "2                          Area             0.461518            334.050850\n",
      "3                  Pop._Density             0.590328           -238.623022\n",
      "4                     Coastline            -0.037105           -159.604194\n",
      "5                 Net_migration             0.779994           1415.694746\n",
      "6              Infant_mortality            -0.393604           -679.535060\n",
      "7                      Literacy             0.338621           1280.488127\n",
      "8                        Phones             0.679238           5588.011538\n",
      "9                        Arable            -0.275383            186.516028\n",
      "10                        Crops            -0.113189           -381.930821\n",
      "11                        Other            -0.194459           1086.006702\n",
      "12                      Climate            -0.828360            -43.238630\n",
      "13                    Birthrate            -0.260280            -69.528701\n",
      "14                    Deathrate            -0.100200            -60.127758\n",
      "15                  Agriculture            -1.013809           -939.140767\n",
      "16                     Industry            -0.013029            620.825196\n",
      "17                      Service             0.328546            415.608800\n",
      "18                   landlocked            -0.125968            654.364138\n",
      "19  Region_ASIA (EX. NEAR EAST)             0.499177           1420.870462\n",
      "20               Region_BALTICS             0.148762          -2182.113415\n",
      "21   Region_C.W. OF IND. STATES             0.453780          -4177.506384\n",
      "22        Region_EASTERN EUROPE             0.187266          -2047.525809\n",
      "23   Region_LATIN AMER. & CARIB             0.661153          -1191.196818\n",
      "24             Region_NEAR EAST             0.577339            834.588441\n",
      "25       Region_NORTHERN AFRICA             0.485417           1693.493774\n",
      "26      Region_NORTHERN AMERICA             0.544064           4337.686528\n",
      "27               Region_OCEANIA             0.148263           2363.742243\n",
      "28    Region_SUB-SAHARAN AFRICA             0.614728           1268.707012\n",
      "29        Region_WESTERN EUROPE             0.243561           6303.156166\n"
     ]
    }
   ],
   "source": [
    "## Print!\n",
    "coefficients_df = coefficients_df.rename(columns = {'Estimated_values': 'NN_estimated_values'})\n",
    "print(coefficients_df)"
   ]
  },
  {
   "cell_type": "markdown",
   "id": "caee87b7",
   "metadata": {
    "papermill": {
     "duration": 0.043525,
     "end_time": "2023-09-19T23:44:48.466530",
     "exception": false,
     "start_time": "2023-09-19T23:44:48.423005",
     "status": "completed"
    },
    "tags": []
   },
   "source": [
    "As we can see, the results are very different for the same coefficients"
   ]
  },
  {
   "cell_type": "code",
   "execution_count": 36,
   "id": "64962528",
   "metadata": {
    "execution": {
     "iopub.execute_input": "2023-09-19T23:44:48.557448Z",
     "iopub.status.busy": "2023-09-19T23:44:48.556651Z",
     "iopub.status.idle": "2023-09-19T23:44:48.811308Z",
     "shell.execute_reply": "2023-09-19T23:44:48.810093Z"
    },
    "papermill": {
     "duration": 0.302811,
     "end_time": "2023-09-19T23:44:48.813817",
     "exception": false,
     "start_time": "2023-09-19T23:44:48.511006",
     "status": "completed"
    },
    "tags": []
   },
   "outputs": [
    {
     "name": "stdout",
     "output_type": "stream",
     "text": [
      "OLS MAE =  2487.99\n",
      "OLS MSE =  9.40458709 x 10^6\n",
      "2/2 [==============================] - 0s 6ms/step - loss: 161509024.0000 - mae: 8853.9102 - mse: 161509024.0000\n",
      "NN MAE =  8853.91\n",
      "2/2 [==============================] - 0s 7ms/step - loss: 161509024.0000 - mae: 8853.9102 - mse: 161509024.0000\n",
      "NN MSE =  161.509024 x 10^6\n"
     ]
    }
   ],
   "source": [
    "## Other results\n",
    "ols_pred = ols_model.predict(sm.add_constant(X_test))\n",
    "print('OLS MAE = ', round(sm.tools.eval_measures.meanabs(ols_pred,y_test),2))\n",
    "print('OLS MSE = ', round(sm.tools.eval_measures.mse(ols_pred,y_test),2)/1e6, 'x 10^6')\n",
    "## Neural network\n",
    "print('NN MAE = ', round(nn_model_linear.evaluate(X_test, y_test)[1],2))\n",
    "print('NN MSE = ', round(nn_model_linear.evaluate(X_test, y_test)[2],2)/1e6, 'x 10^6')"
   ]
  },
  {
   "cell_type": "markdown",
   "id": "2b981bf8",
   "metadata": {
    "execution": {
     "iopub.execute_input": "2023-09-18T14:29:47.707232Z",
     "iopub.status.busy": "2023-09-18T14:29:47.706749Z",
     "iopub.status.idle": "2023-09-18T14:29:47.835991Z",
     "shell.execute_reply": "2023-09-18T14:29:47.835051Z",
     "shell.execute_reply.started": "2023-09-18T14:29:47.707200Z"
    },
    "papermill": {
     "duration": 0.045179,
     "end_time": "2023-09-19T23:44:48.903668",
     "exception": false,
     "start_time": "2023-09-19T23:44:48.858489",
     "status": "completed"
    },
    "tags": []
   },
   "source": [
    "The neural network is massively underfitted to the data, which could explain the differences in the estimated coefficients."
   ]
  },
  {
   "cell_type": "markdown",
   "id": "ba8a3a44",
   "metadata": {
    "papermill": {
     "duration": 0.045,
     "end_time": "2023-09-19T23:44:48.993323",
     "exception": false,
     "start_time": "2023-09-19T23:44:48.948323",
     "status": "completed"
    },
    "tags": []
   },
   "source": [
    "The mean average difference for both models "
   ]
  },
  {
   "cell_type": "markdown",
   "id": "d5af3a23",
   "metadata": {
    "papermill": {
     "duration": 0.044542,
     "end_time": "2023-09-19T23:44:49.083193",
     "exception": false,
     "start_time": "2023-09-19T23:44:49.038651",
     "status": "completed"
    },
    "tags": []
   },
   "source": [
    "# Model 2: More complex neural networks"
   ]
  },
  {
   "cell_type": "markdown",
   "id": "9301f3f8",
   "metadata": {
    "papermill": {
     "duration": 0.0445,
     "end_time": "2023-09-19T23:44:49.172256",
     "exception": false,
     "start_time": "2023-09-19T23:44:49.127756",
     "status": "completed"
    },
    "tags": []
   },
   "source": [
    "Let us try a more complex neural network, to make use of the actual pros of deep learning. \n",
    "\n",
    "More layers, and more nodes per layer, allow for more relationships to be captured. Some benefits are \n",
    "\n",
    "* non-linearity (via activation functions)\n",
    "* interactions between predictors\n",
    "* possible feature selection in hidden layers"
   ]
  },
  {
   "cell_type": "markdown",
   "id": "5497d552",
   "metadata": {
    "papermill": {
     "duration": 0.04439,
     "end_time": "2023-09-19T23:44:49.261397",
     "exception": false,
     "start_time": "2023-09-19T23:44:49.217007",
     "status": "completed"
    },
    "tags": []
   },
   "source": [
    "More nodes within a layer\n",
    "* More capacity to represent different combinations of predictors, i.e. capture different 'features' of the data. For images, it is like having more filters to capture more patterns in the data\n",
    "* More parameters, which can easily also cause overfitting\n",
    "\n",
    "More layers\n",
    "* Since each layer can be seen as a (non-linear) transformation of previous layers, more layers can allow network to learn more hirerarchical features. In images, this could capture different early patterns to capture more complex patterns\n",
    "* Capture more complex non-linearities. "
   ]
  },
  {
   "cell_type": "code",
   "execution_count": 37,
   "id": "e50172b5",
   "metadata": {
    "execution": {
     "iopub.execute_input": "2023-09-19T23:44:49.353995Z",
     "iopub.status.busy": "2023-09-19T23:44:49.353591Z",
     "iopub.status.idle": "2023-09-19T23:44:49.429207Z",
     "shell.execute_reply": "2023-09-19T23:44:49.428171Z"
    },
    "papermill": {
     "duration": 0.124285,
     "end_time": "2023-09-19T23:44:49.431958",
     "exception": false,
     "start_time": "2023-09-19T23:44:49.307673",
     "status": "completed"
    },
    "tags": []
   },
   "outputs": [],
   "source": [
    "## Very common to use 128, 64, 32\n",
    "complex_nn_model = Sequential([\n",
    "    Dense(128, activation='relu', input_shape=(X_train.shape[1],)),\n",
    "    Dense(64, activation='relu'),\n",
    "    Dense(32, activation='relu'),\n",
    "    Dense(1)  ## single neuron without an activation for regression tasks.\n",
    "])"
   ]
  },
  {
   "cell_type": "code",
   "execution_count": 38,
   "id": "c9f54114",
   "metadata": {
    "execution": {
     "iopub.execute_input": "2023-09-19T23:44:49.523262Z",
     "iopub.status.busy": "2023-09-19T23:44:49.522862Z",
     "iopub.status.idle": "2023-09-19T23:44:49.543805Z",
     "shell.execute_reply": "2023-09-19T23:44:49.542565Z"
    },
    "papermill": {
     "duration": 0.075288,
     "end_time": "2023-09-19T23:44:49.551550",
     "exception": false,
     "start_time": "2023-09-19T23:44:49.476262",
     "status": "completed"
    },
    "tags": []
   },
   "outputs": [
    {
     "name": "stdout",
     "output_type": "stream",
     "text": [
      "Model: \"sequential_1\"\n",
      "_________________________________________________________________\n",
      " Layer (type)                Output Shape              Param #   \n",
      "=================================================================\n",
      " dense_1 (Dense)             (None, 128)               3840      \n",
      "                                                                 \n",
      " dense_2 (Dense)             (None, 64)                8256      \n",
      "                                                                 \n",
      " dense_3 (Dense)             (None, 32)                2080      \n",
      "                                                                 \n",
      " dense_4 (Dense)             (None, 1)                 33        \n",
      "                                                                 \n",
      "=================================================================\n",
      "Total params: 14,209\n",
      "Trainable params: 14,209\n",
      "Non-trainable params: 0\n",
      "_________________________________________________________________\n"
     ]
    }
   ],
   "source": [
    "complex_nn_model.summary()"
   ]
  },
  {
   "cell_type": "code",
   "execution_count": 39,
   "id": "dfbd43b1",
   "metadata": {
    "execution": {
     "iopub.execute_input": "2023-09-19T23:44:49.644886Z",
     "iopub.status.busy": "2023-09-19T23:44:49.644229Z",
     "iopub.status.idle": "2023-09-19T23:44:49.652359Z",
     "shell.execute_reply": "2023-09-19T23:44:49.651149Z"
    },
    "papermill": {
     "duration": 0.056364,
     "end_time": "2023-09-19T23:44:49.654408",
     "exception": false,
     "start_time": "2023-09-19T23:44:49.598044",
     "status": "completed"
    },
    "tags": []
   },
   "outputs": [
    {
     "data": {
      "image/png": "[encoded data removed]",
      "text/plain": [
       "<PIL.Image.Image image mode=RGBA size=137x27>"
      ]
     },
     "execution_count": 39,
     "metadata": {},
     "output_type": "execute_result"
    }
   ],
   "source": [
    "visualkeras.layered_view(complex_nn_model)"
   ]
  },
  {
   "cell_type": "markdown",
   "id": "58aa0ef1",
   "metadata": {
    "papermill": {
     "duration": 0.046667,
     "end_time": "2023-09-19T23:44:49.747134",
     "exception": false,
     "start_time": "2023-09-19T23:44:49.700467",
     "status": "completed"
    },
    "tags": []
   },
   "source": [
    "As we can see, we have 3 hidden layers"
   ]
  },
  {
   "cell_type": "code",
   "execution_count": null,
   "id": "dbf70240",
   "metadata": {
    "papermill": {
     "duration": 0.045364,
     "end_time": "2023-09-19T23:44:49.838127",
     "exception": false,
     "start_time": "2023-09-19T23:44:49.792763",
     "status": "completed"
    },
    "tags": []
   },
   "outputs": [],
   "source": []
  },
  {
   "cell_type": "markdown",
   "id": "1513d4fd",
   "metadata": {
    "papermill": {
     "duration": 0.04472,
     "end_time": "2023-09-19T23:44:49.928337",
     "exception": false,
     "start_time": "2023-09-19T23:44:49.883617",
     "status": "completed"
    },
    "tags": []
   },
   "source": [
    "We add **early stopping** to prevent our model from overfitting. After too many epochs,the model will start overfitting to the noise of the data, and we want to stop it before this happens such that it learns only enough of the data to generalise well. "
   ]
  },
  {
   "cell_type": "code",
   "execution_count": 40,
   "id": "ed80ef19",
   "metadata": {
    "execution": {
     "iopub.execute_input": "2023-09-19T23:44:50.023910Z",
     "iopub.status.busy": "2023-09-19T23:44:50.023516Z",
     "iopub.status.idle": "2023-09-19T23:45:01.242093Z",
     "shell.execute_reply": "2023-09-19T23:45:01.240784Z"
    },
    "papermill": {
     "duration": 11.270176,
     "end_time": "2023-09-19T23:45:01.244876",
     "exception": false,
     "start_time": "2023-09-19T23:44:49.974700",
     "status": "completed"
    },
    "tags": []
   },
   "outputs": [
    {
     "name": "stdout",
     "output_type": "stream",
     "text": [
      "Epoch 1/100\n",
      "6/6 [==============================] - 1s 49ms/step - loss: 201873376.0000 - mae: 9878.6123 - mse: 201873376.0000 - val_loss: 161545040.0000 - val_mae: 8853.7480 - val_mse: 161545040.0000\n",
      "Epoch 2/100\n",
      "6/6 [==============================] - 0s 9ms/step - loss: 201858912.0000 - mae: 9877.9199 - mse: 201858912.0000 - val_loss: 161533264.0000 - val_mae: 8853.0488 - val_mse: 161533264.0000\n",
      "Epoch 3/100\n",
      "6/6 [==============================] - 0s 9ms/step - loss: 201840880.0000 - mae: 9877.0889 - mse: 201840880.0000 - val_loss: 161516704.0000 - val_mae: 8852.1006 - val_mse: 161516704.0000\n",
      "Epoch 4/100\n",
      "6/6 [==============================] - 0s 9ms/step - loss: 201816048.0000 - mae: 9875.9199 - mse: 201816048.0000 - val_loss: 161491760.0000 - val_mae: 8850.7510 - val_mse: 161491760.0000\n",
      "Epoch 5/100\n",
      "6/6 [==============================] - 0s 9ms/step - loss: 201776544.0000 - mae: 9874.2227 - mse: 201776544.0000 - val_loss: 161453648.0000 - val_mae: 8848.8184 - val_mse: 161453648.0000\n",
      "Epoch 6/100\n",
      "6/6 [==============================] - 0s 9ms/step - loss: 201721760.0000 - mae: 9871.7578 - mse: 201721760.0000 - val_loss: 161396352.0000 - val_mae: 8846.0879 - val_mse: 161396352.0000\n",
      "Epoch 7/100\n",
      "6/6 [==============================] - 0s 10ms/step - loss: 201632032.0000 - mae: 9868.2627 - mse: 201632032.0000 - val_loss: 161312864.0000 - val_mae: 8842.3154 - val_mse: 161312864.0000\n",
      "Epoch 8/100\n",
      "6/6 [==============================] - 0s 9ms/step - loss: 201508000.0000 - mae: 9863.4170 - mse: 201508000.0000 - val_loss: 161189392.0000 - val_mae: 8837.0420 - val_mse: 161189392.0000\n",
      "Epoch 9/100\n",
      "6/6 [==============================] - 0s 10ms/step - loss: 201325376.0000 - mae: 9856.5244 - mse: 201325376.0000 - val_loss: 161009760.0000 - val_mae: 8829.7646 - val_mse: 161009760.0000\n",
      "Epoch 10/100\n",
      "6/6 [==============================] - 0s 10ms/step - loss: 201044288.0000 - mae: 9846.9668 - mse: 201044288.0000 - val_loss: 160756576.0000 - val_mae: 8819.9277 - val_mse: 160756576.0000\n",
      "Epoch 11/100\n",
      "6/6 [==============================] - 0s 10ms/step - loss: 200674672.0000 - mae: 9833.9922 - mse: 200674672.0000 - val_loss: 160393440.0000 - val_mae: 8806.4521 - val_mse: 160393440.0000\n",
      "Epoch 12/100\n",
      "6/6 [==============================] - 0s 9ms/step - loss: 200146304.0000 - mae: 9815.8623 - mse: 200146304.0000 - val_loss: 159892864.0000 - val_mae: 8788.4834 - val_mse: 159892864.0000\n",
      "Epoch 13/100\n",
      "6/6 [==============================] - 0s 9ms/step - loss: 199420464.0000 - mae: 9791.7852 - mse: 199420464.0000 - val_loss: 159217792.0000 - val_mae: 8764.9277 - val_mse: 159217792.0000\n",
      "Epoch 14/100\n",
      "6/6 [==============================] - 0s 9ms/step - loss: 198391344.0000 - mae: 9759.5488 - mse: 198391344.0000 - val_loss: 158330176.0000 - val_mae: 8734.6113 - val_mse: 158330176.0000\n",
      "Epoch 15/100\n",
      "6/6 [==============================] - 0s 9ms/step - loss: 197197664.0000 - mae: 9719.8838 - mse: 197197664.0000 - val_loss: 157152928.0000 - val_mae: 8695.3369 - val_mse: 157152928.0000\n",
      "Epoch 16/100\n",
      "6/6 [==============================] - 0s 10ms/step - loss: 195453136.0000 - mae: 9666.6992 - mse: 195453136.0000 - val_loss: 155658816.0000 - val_mae: 8646.1943 - val_mse: 155658816.0000\n",
      "Epoch 17/100\n",
      "6/6 [==============================] - 0s 10ms/step - loss: 193471376.0000 - mae: 9602.8096 - mse: 193471376.0000 - val_loss: 153729200.0000 - val_mae: 8583.5107 - val_mse: 153729200.0000\n",
      "Epoch 18/100\n",
      "6/6 [==============================] - 0s 9ms/step - loss: 190737680.0000 - mae: 9519.9170 - mse: 190737680.0000 - val_loss: 151362256.0000 - val_mae: 8507.1143 - val_mse: 151362256.0000\n",
      "Epoch 19/100\n",
      "6/6 [==============================] - 0s 9ms/step - loss: 187391200.0000 - mae: 9416.6494 - mse: 187391200.0000 - val_loss: 148472432.0000 - val_mae: 8414.4023 - val_mse: 148472432.0000\n",
      "Epoch 20/100\n",
      "6/6 [==============================] - 0s 10ms/step - loss: 183453760.0000 - mae: 9292.6631 - mse: 183453760.0000 - val_loss: 144955952.0000 - val_mae: 8300.8574 - val_mse: 144955952.0000\n",
      "Epoch 21/100\n",
      "6/6 [==============================] - 0s 9ms/step - loss: 178646096.0000 - mae: 9144.4053 - mse: 178646096.0000 - val_loss: 140798080.0000 - val_mae: 8165.8633 - val_mse: 140798080.0000\n",
      "Epoch 22/100\n",
      "6/6 [==============================] - 0s 10ms/step - loss: 173157840.0000 - mae: 8967.5850 - mse: 173157840.0000 - val_loss: 135933504.0000 - val_mae: 8006.4170 - val_mse: 135933504.0000\n",
      "Epoch 23/100\n",
      "6/6 [==============================] - 0s 9ms/step - loss: 166687600.0000 - mae: 8759.5898 - mse: 166687600.0000 - val_loss: 130427240.0000 - val_mae: 7822.2622 - val_mse: 130427240.0000\n",
      "Epoch 24/100\n",
      "6/6 [==============================] - 0s 10ms/step - loss: 159171120.0000 - mae: 8515.5244 - mse: 159171120.0000 - val_loss: 124190856.0000 - val_mae: 7609.5405 - val_mse: 124190856.0000\n",
      "Epoch 25/100\n",
      "6/6 [==============================] - 0s 10ms/step - loss: 150936768.0000 - mae: 8243.5146 - mse: 150936768.0000 - val_loss: 117166192.0000 - val_mae: 7363.2539 - val_mse: 117166192.0000\n",
      "Epoch 26/100\n",
      "6/6 [==============================] - 0s 10ms/step - loss: 142440640.0000 - mae: 7937.7461 - mse: 142440640.0000 - val_loss: 109195416.0000 - val_mae: 7075.3218 - val_mse: 109195416.0000\n",
      "Epoch 27/100\n",
      "6/6 [==============================] - 0s 10ms/step - loss: 132113344.0000 - mae: 7581.5972 - mse: 132113344.0000 - val_loss: 100840848.0000 - val_mae: 6760.1909 - val_mse: 100840848.0000\n",
      "Epoch 28/100\n",
      "6/6 [==============================] - 0s 11ms/step - loss: 121191936.0000 - mae: 7205.3369 - mse: 121191936.0000 - val_loss: 92034832.0000 - val_mae: 6410.3252 - val_mse: 92034840.0000\n",
      "Epoch 29/100\n",
      "6/6 [==============================] - 0s 11ms/step - loss: 110179944.0000 - mae: 6797.1934 - mse: 110179944.0000 - val_loss: 82772224.0000 - val_mae: 6021.8521 - val_mse: 82772224.0000\n",
      "Epoch 30/100\n",
      "6/6 [==============================] - 0s 10ms/step - loss: 98721416.0000 - mae: 6360.7285 - mse: 98721416.0000 - val_loss: 73211752.0000 - val_mae: 5627.0674 - val_mse: 73211752.0000\n",
      "Epoch 31/100\n",
      "6/6 [==============================] - 0s 10ms/step - loss: 86331480.0000 - mae: 5906.7251 - mse: 86331480.0000 - val_loss: 63888104.0000 - val_mae: 5227.3320 - val_mse: 63888104.0000\n",
      "Epoch 32/100\n",
      "6/6 [==============================] - 0s 11ms/step - loss: 75658384.0000 - mae: 5467.7314 - mse: 75658384.0000 - val_loss: 54559940.0000 - val_mae: 4812.6611 - val_mse: 54559940.0000\n",
      "Epoch 33/100\n",
      "6/6 [==============================] - 0s 11ms/step - loss: 64690860.0000 - mae: 5043.7153 - mse: 64690860.0000 - val_loss: 46000720.0000 - val_mae: 4450.2998 - val_mse: 46000720.0000\n",
      "Epoch 34/100\n",
      "6/6 [==============================] - 0s 11ms/step - loss: 55771124.0000 - mae: 4689.2168 - mse: 55771124.0000 - val_loss: 38208908.0000 - val_mae: 4144.2246 - val_mse: 38208908.0000\n",
      "Epoch 35/100\n",
      "6/6 [==============================] - 0s 10ms/step - loss: 47075772.0000 - mae: 4360.3696 - mse: 47075772.0000 - val_loss: 31942284.0000 - val_mae: 3906.9233 - val_mse: 31942284.0000\n",
      "Epoch 36/100\n",
      "6/6 [==============================] - 0s 10ms/step - loss: 41111624.0000 - mae: 4105.9131 - mse: 41111624.0000 - val_loss: 26854042.0000 - val_mae: 3675.9451 - val_mse: 26854042.0000\n",
      "Epoch 37/100\n",
      "6/6 [==============================] - 0s 10ms/step - loss: 35947100.0000 - mae: 3879.2561 - mse: 35947100.0000 - val_loss: 23149424.0000 - val_mae: 3490.4790 - val_mse: 23149424.0000\n",
      "Epoch 38/100\n",
      "6/6 [==============================] - 0s 9ms/step - loss: 32525576.0000 - mae: 3742.4575 - mse: 32525576.0000 - val_loss: 20487642.0000 - val_mae: 3372.1030 - val_mse: 20487642.0000\n",
      "Epoch 39/100\n",
      "6/6 [==============================] - 0s 9ms/step - loss: 30615274.0000 - mae: 3676.2798 - mse: 30615274.0000 - val_loss: 18609548.0000 - val_mae: 3309.9038 - val_mse: 18609548.0000\n",
      "Epoch 40/100\n",
      "6/6 [==============================] - 0s 10ms/step - loss: 29145592.0000 - mae: 3646.4980 - mse: 29145592.0000 - val_loss: 17455116.0000 - val_mae: 3256.9573 - val_mse: 17455116.0000\n",
      "Epoch 41/100\n",
      "6/6 [==============================] - 0s 9ms/step - loss: 28495358.0000 - mae: 3632.4060 - mse: 28495358.0000 - val_loss: 16627836.0000 - val_mae: 3208.9382 - val_mse: 16627836.0000\n",
      "Epoch 42/100\n",
      "6/6 [==============================] - 0s 10ms/step - loss: 27772906.0000 - mae: 3616.6306 - mse: 27772906.0000 - val_loss: 16118180.0000 - val_mae: 3171.5359 - val_mse: 16118180.0000\n",
      "Epoch 43/100\n",
      "6/6 [==============================] - 0s 10ms/step - loss: 27228012.0000 - mae: 3596.1433 - mse: 27228012.0000 - val_loss: 15734102.0000 - val_mae: 3138.7666 - val_mse: 15734102.0000\n",
      "Epoch 44/100\n",
      "6/6 [==============================] - 0s 10ms/step - loss: 26915740.0000 - mae: 3580.4124 - mse: 26915740.0000 - val_loss: 15374431.0000 - val_mae: 3108.2688 - val_mse: 15374431.0000\n",
      "Epoch 45/100\n",
      "6/6 [==============================] - 0s 12ms/step - loss: 26268720.0000 - mae: 3557.8352 - mse: 26268720.0000 - val_loss: 15140047.0000 - val_mae: 3085.2126 - val_mse: 15140047.0000\n",
      "Epoch 46/100\n",
      "6/6 [==============================] - 0s 10ms/step - loss: 25802068.0000 - mae: 3535.4360 - mse: 25802068.0000 - val_loss: 14926115.0000 - val_mae: 3062.9402 - val_mse: 14926115.0000\n",
      "Epoch 47/100\n",
      "6/6 [==============================] - 0s 9ms/step - loss: 25538764.0000 - mae: 3518.7107 - mse: 25538764.0000 - val_loss: 14724853.0000 - val_mae: 3039.3914 - val_mse: 14724853.0000\n",
      "Epoch 48/100\n",
      "6/6 [==============================] - 0s 9ms/step - loss: 25037720.0000 - mae: 3487.0732 - mse: 25037720.0000 - val_loss: 14596376.0000 - val_mae: 3022.9355 - val_mse: 14596376.0000\n",
      "Epoch 49/100\n",
      "6/6 [==============================] - 0s 9ms/step - loss: 24713020.0000 - mae: 3464.3977 - mse: 24713020.0000 - val_loss: 14425525.0000 - val_mae: 3003.1023 - val_mse: 14425525.0000\n",
      "Epoch 50/100\n",
      "6/6 [==============================] - 0s 10ms/step - loss: 24358070.0000 - mae: 3441.0693 - mse: 24358070.0000 - val_loss: 14287474.0000 - val_mae: 2985.8831 - val_mse: 14287474.0000\n",
      "Epoch 51/100\n",
      "6/6 [==============================] - 0s 9ms/step - loss: 24032534.0000 - mae: 3416.9915 - mse: 24032534.0000 - val_loss: 14116245.0000 - val_mae: 2963.2871 - val_mse: 14116245.0000\n",
      "Epoch 52/100\n",
      "6/6 [==============================] - 0s 9ms/step - loss: 23748128.0000 - mae: 3396.7783 - mse: 23748128.0000 - val_loss: 13957768.0000 - val_mae: 2940.1001 - val_mse: 13957768.0000\n",
      "Epoch 53/100\n",
      "6/6 [==============================] - 0s 9ms/step - loss: 23512648.0000 - mae: 3381.4524 - mse: 23512648.0000 - val_loss: 13805629.0000 - val_mae: 2918.8438 - val_mse: 13805629.0000\n",
      "Epoch 54/100\n",
      "6/6 [==============================] - 0s 9ms/step - loss: 23201074.0000 - mae: 3360.1719 - mse: 23201074.0000 - val_loss: 13661560.0000 - val_mae: 2898.8591 - val_mse: 13661560.0000\n",
      "Epoch 55/100\n",
      "6/6 [==============================] - 0s 13ms/step - loss: 22948932.0000 - mae: 3339.4790 - mse: 22948932.0000 - val_loss: 13540188.0000 - val_mae: 2879.4504 - val_mse: 13540188.0000\n",
      "Epoch 56/100\n",
      "6/6 [==============================] - 0s 9ms/step - loss: 22675652.0000 - mae: 3317.6985 - mse: 22675652.0000 - val_loss: 13434369.0000 - val_mae: 2861.5906 - val_mse: 13434369.0000\n",
      "Epoch 57/100\n",
      "6/6 [==============================] - 0s 9ms/step - loss: 22460036.0000 - mae: 3299.4990 - mse: 22460036.0000 - val_loss: 13329491.0000 - val_mae: 2843.2007 - val_mse: 13329491.0000\n",
      "Epoch 58/100\n",
      "6/6 [==============================] - 0s 9ms/step - loss: 22260002.0000 - mae: 3282.2622 - mse: 22260002.0000 - val_loss: 13202866.0000 - val_mae: 2820.6064 - val_mse: 13202866.0000\n",
      "Epoch 59/100\n",
      "6/6 [==============================] - 0s 9ms/step - loss: 21986524.0000 - mae: 3268.0364 - mse: 21986524.0000 - val_loss: 13068785.0000 - val_mae: 2807.1147 - val_mse: 13068785.0000\n",
      "Epoch 60/100\n",
      "6/6 [==============================] - 0s 9ms/step - loss: 21832610.0000 - mae: 3259.0874 - mse: 21832610.0000 - val_loss: 12929774.0000 - val_mae: 2797.2297 - val_mse: 12929774.0000\n",
      "Epoch 61/100\n",
      "6/6 [==============================] - 0s 9ms/step - loss: 21574896.0000 - mae: 3242.2058 - mse: 21574896.0000 - val_loss: 12834016.0000 - val_mae: 2785.2737 - val_mse: 12834016.0000\n",
      "Epoch 62/100\n",
      "6/6 [==============================] - 0s 9ms/step - loss: 21402742.0000 - mae: 3224.4602 - mse: 21402742.0000 - val_loss: 12738436.0000 - val_mae: 2772.0935 - val_mse: 12738436.0000\n",
      "Epoch 63/100\n",
      "6/6 [==============================] - 0s 9ms/step - loss: 21201320.0000 - mae: 3207.6226 - mse: 21201320.0000 - val_loss: 12649842.0000 - val_mae: 2760.4226 - val_mse: 12649842.0000\n",
      "Epoch 64/100\n",
      "6/6 [==============================] - 0s 10ms/step - loss: 21012452.0000 - mae: 3187.3564 - mse: 21012452.0000 - val_loss: 12568342.0000 - val_mae: 2744.7056 - val_mse: 12568342.0000\n",
      "Epoch 65/100\n",
      "6/6 [==============================] - 0s 10ms/step - loss: 20822864.0000 - mae: 3168.8235 - mse: 20822864.0000 - val_loss: 12475168.0000 - val_mae: 2731.5486 - val_mse: 12475168.0000\n",
      "Epoch 66/100\n",
      "6/6 [==============================] - 0s 9ms/step - loss: 20650904.0000 - mae: 3157.0706 - mse: 20650904.0000 - val_loss: 12381896.0000 - val_mae: 2722.5637 - val_mse: 12381896.0000\n",
      "Epoch 67/100\n",
      "6/6 [==============================] - 0s 12ms/step - loss: 20503110.0000 - mae: 3146.5825 - mse: 20503110.0000 - val_loss: 12306790.0000 - val_mae: 2710.3054 - val_mse: 12306790.0000\n",
      "Epoch 68/100\n",
      "6/6 [==============================] - 0s 9ms/step - loss: 20329858.0000 - mae: 3134.6218 - mse: 20329858.0000 - val_loss: 12227936.0000 - val_mae: 2697.3716 - val_mse: 12227936.0000\n",
      "Epoch 69/100\n",
      "6/6 [==============================] - 0s 9ms/step - loss: 20166788.0000 - mae: 3120.1709 - mse: 20166788.0000 - val_loss: 12159339.0000 - val_mae: 2687.1921 - val_mse: 12159339.0000\n",
      "Epoch 70/100\n",
      "6/6 [==============================] - 0s 9ms/step - loss: 20033530.0000 - mae: 3110.7576 - mse: 20033530.0000 - val_loss: 12101631.0000 - val_mae: 2677.8889 - val_mse: 12101631.0000\n",
      "Epoch 71/100\n",
      "6/6 [==============================] - 0s 10ms/step - loss: 19884820.0000 - mae: 3097.0469 - mse: 19884820.0000 - val_loss: 12044728.0000 - val_mae: 2665.8484 - val_mse: 12044728.0000\n",
      "Epoch 72/100\n",
      "6/6 [==============================] - 0s 9ms/step - loss: 19746930.0000 - mae: 3084.5894 - mse: 19746930.0000 - val_loss: 12003001.0000 - val_mae: 2657.9734 - val_mse: 12003001.0000\n",
      "Epoch 73/100\n",
      "6/6 [==============================] - 0s 10ms/step - loss: 19585308.0000 - mae: 3072.4375 - mse: 19585308.0000 - val_loss: 11928192.0000 - val_mae: 2646.2671 - val_mse: 11928192.0000\n",
      "Epoch 74/100\n",
      "6/6 [==============================] - 0s 12ms/step - loss: 19464542.0000 - mae: 3061.3569 - mse: 19464542.0000 - val_loss: 11871425.0000 - val_mae: 2636.8396 - val_mse: 11871425.0000\n",
      "Epoch 75/100\n",
      "6/6 [==============================] - 0s 9ms/step - loss: 19344498.0000 - mae: 3048.9031 - mse: 19344498.0000 - val_loss: 11802127.0000 - val_mae: 2623.0156 - val_mse: 11802127.0000\n",
      "Epoch 76/100\n",
      "6/6 [==============================] - 0s 9ms/step - loss: 19231902.0000 - mae: 3036.5415 - mse: 19231902.0000 - val_loss: 11738472.0000 - val_mae: 2609.9290 - val_mse: 11738472.0000\n",
      "Epoch 77/100\n",
      "6/6 [==============================] - 0s 9ms/step - loss: 19098500.0000 - mae: 3024.2727 - mse: 19098500.0000 - val_loss: 11688295.0000 - val_mae: 2601.3914 - val_mse: 11688295.0000\n",
      "Epoch 78/100\n",
      "6/6 [==============================] - 0s 9ms/step - loss: 18961526.0000 - mae: 3013.5935 - mse: 18961526.0000 - val_loss: 11635126.0000 - val_mae: 2590.4851 - val_mse: 11635126.0000\n",
      "Epoch 79/100\n",
      "6/6 [==============================] - 0s 10ms/step - loss: 18855354.0000 - mae: 3001.8564 - mse: 18855354.0000 - val_loss: 11596003.0000 - val_mae: 2582.2168 - val_mse: 11596003.0000\n",
      "Epoch 80/100\n",
      "6/6 [==============================] - 0s 9ms/step - loss: 18753832.0000 - mae: 2989.6743 - mse: 18753832.0000 - val_loss: 11548451.0000 - val_mae: 2570.1187 - val_mse: 11548451.0000\n",
      "Epoch 81/100\n",
      "6/6 [==============================] - 0s 9ms/step - loss: 18640932.0000 - mae: 2978.3674 - mse: 18640932.0000 - val_loss: 11506729.0000 - val_mae: 2561.2498 - val_mse: 11506729.0000\n",
      "Epoch 82/100\n",
      "6/6 [==============================] - 0s 9ms/step - loss: 18536234.0000 - mae: 2969.8589 - mse: 18536234.0000 - val_loss: 11451445.0000 - val_mae: 2552.3569 - val_mse: 11451445.0000\n",
      "Epoch 83/100\n",
      "6/6 [==============================] - 0s 9ms/step - loss: 18415066.0000 - mae: 2957.4624 - mse: 18415066.0000 - val_loss: 11391206.0000 - val_mae: 2541.5181 - val_mse: 11391206.0000\n",
      "Epoch 84/100\n",
      "6/6 [==============================] - 0s 9ms/step - loss: 18323826.0000 - mae: 2947.8684 - mse: 18323826.0000 - val_loss: 11371361.0000 - val_mae: 2533.3643 - val_mse: 11371361.0000\n",
      "Epoch 85/100\n",
      "6/6 [==============================] - 0s 13ms/step - loss: 18247878.0000 - mae: 2942.5383 - mse: 18247878.0000 - val_loss: 11326458.0000 - val_mae: 2525.1599 - val_mse: 11326458.0000\n",
      "Epoch 86/100\n",
      "6/6 [==============================] - 0s 9ms/step - loss: 18174772.0000 - mae: 2935.6282 - mse: 18174772.0000 - val_loss: 11321644.0000 - val_mae: 2528.8069 - val_mse: 11321644.0000\n",
      "Epoch 87/100\n",
      "6/6 [==============================] - 0s 9ms/step - loss: 18046170.0000 - mae: 2922.8044 - mse: 18046170.0000 - val_loss: 11251030.0000 - val_mae: 2512.4536 - val_mse: 11251030.0000\n",
      "Epoch 88/100\n",
      "6/6 [==============================] - 0s 9ms/step - loss: 17946190.0000 - mae: 2911.2964 - mse: 17946190.0000 - val_loss: 11217174.0000 - val_mae: 2508.5557 - val_mse: 11217174.0000\n",
      "Epoch 89/100\n",
      "6/6 [==============================] - 0s 12ms/step - loss: 17840188.0000 - mae: 2899.3459 - mse: 17840188.0000 - val_loss: 11191537.0000 - val_mae: 2502.3491 - val_mse: 11191537.0000\n",
      "Epoch 90/100\n",
      "6/6 [==============================] - 0s 9ms/step - loss: 17748804.0000 - mae: 2890.0923 - mse: 17748804.0000 - val_loss: 11136851.0000 - val_mae: 2493.1282 - val_mse: 11136851.0000\n",
      "Epoch 91/100\n",
      "6/6 [==============================] - 0s 13ms/step - loss: 17662332.0000 - mae: 2878.8293 - mse: 17662332.0000 - val_loss: 11085997.0000 - val_mae: 2483.5750 - val_mse: 11085997.0000\n",
      "Epoch 92/100\n",
      "6/6 [==============================] - 0s 9ms/step - loss: 17582010.0000 - mae: 2868.7297 - mse: 17582010.0000 - val_loss: 11062858.0000 - val_mae: 2483.0571 - val_mse: 11062858.0000\n",
      "Epoch 93/100\n",
      "6/6 [==============================] - 0s 9ms/step - loss: 17484792.0000 - mae: 2860.3594 - mse: 17484792.0000 - val_loss: 11030851.0000 - val_mae: 2481.3618 - val_mse: 11030851.0000\n",
      "Epoch 94/100\n",
      "6/6 [==============================] - 0s 9ms/step - loss: 17490100.0000 - mae: 2858.2429 - mse: 17490100.0000 - val_loss: 11034461.0000 - val_mae: 2483.9517 - val_mse: 11034461.0000\n",
      "Epoch 95/100\n",
      "6/6 [==============================] - 0s 9ms/step - loss: 17321456.0000 - mae: 2846.7141 - mse: 17321456.0000 - val_loss: 10983361.0000 - val_mae: 2481.1582 - val_mse: 10983361.0000\n",
      "Epoch 96/100\n",
      "6/6 [==============================] - 0s 9ms/step - loss: 17256428.0000 - mae: 2835.5103 - mse: 17256428.0000 - val_loss: 10928459.0000 - val_mae: 2478.7278 - val_mse: 10928459.0000\n",
      "Epoch 97/100\n",
      "6/6 [==============================] - 0s 9ms/step - loss: 17183510.0000 - mae: 2827.4094 - mse: 17183510.0000 - val_loss: 10903108.0000 - val_mae: 2479.4395 - val_mse: 10903108.0000\n",
      "Epoch 98/100\n",
      "6/6 [==============================] - 0s 9ms/step - loss: 17114780.0000 - mae: 2815.6882 - mse: 17114780.0000 - val_loss: 10855313.0000 - val_mae: 2477.1807 - val_mse: 10855313.0000\n",
      "Epoch 99/100\n",
      "6/6 [==============================] - 0s 9ms/step - loss: 17033934.0000 - mae: 2807.1948 - mse: 17033934.0000 - val_loss: 10833328.0000 - val_mae: 2477.6440 - val_mse: 10833328.0000\n",
      "Epoch 100/100\n",
      "6/6 [==============================] - 0s 9ms/step - loss: 16982132.0000 - mae: 2798.8262 - mse: 16982132.0000 - val_loss: 10790922.0000 - val_mae: 2474.9199 - val_mse: 10790922.0000\n"
     ]
    }
   ],
   "source": [
    "## Compile again\n",
    "complex_nn_model.compile(optimizer='adam', loss='mean_squared_error', metrics=['mae', 'mse'])\n",
    "\n",
    "## Training the model -- but now with mre options\n",
    "## We use methods called callbacks to save some information during training, such as \n",
    "## End of some epochs\n",
    "from tensorflow.keras.callbacks import EarlyStopping\n",
    "\n",
    "## Set early stopping\n",
    "early_stop = EarlyStopping(monitor='val_loss', patience=10, ## stops the model fitting process if there is no improvement in validation for 10 epochs\n",
    "                           restore_best_weights=True) ## take the estimated parameters that gave the best results\n",
    "history = complex_nn_model.fit(X_train, y_train, epochs=100, \n",
    "                               validation_data=(X_test, y_test), \n",
    "                               callbacks=[early_stop]) ## Add the callback into the fitting function\n",
    "\n",
    "\n",
    "## Patience -- we should be **patient** enough such that if the model improves only at \n",
    "## a later epoch, we do not miss out on that opportunity.\n",
    "# Hence it should not be too small! "
   ]
  },
  {
   "cell_type": "markdown",
   "id": "cb591bcd",
   "metadata": {
    "execution": {
     "iopub.execute_input": "2023-09-18T20:10:20.966757Z",
     "iopub.status.busy": "2023-09-18T20:10:20.966029Z",
     "iopub.status.idle": "2023-09-18T20:10:20.973260Z",
     "shell.execute_reply": "2023-09-18T20:10:20.971814Z",
     "shell.execute_reply.started": "2023-09-18T20:10:20.966716Z"
    },
    "papermill": {
     "duration": 0.066039,
     "end_time": "2023-09-19T23:45:01.375633",
     "exception": false,
     "start_time": "2023-09-19T23:45:01.309594",
     "status": "completed"
    },
    "tags": []
   },
   "source": [
    "We had saved the history callback to the history object. This allows us to access some data stored during the fitting process"
   ]
  },
  {
   "cell_type": "code",
   "execution_count": 41,
   "id": "1313cb9b",
   "metadata": {
    "execution": {
     "iopub.execute_input": "2023-09-19T23:45:01.506032Z",
     "iopub.status.busy": "2023-09-19T23:45:01.505102Z",
     "iopub.status.idle": "2023-09-19T23:45:01.511031Z",
     "shell.execute_reply": "2023-09-19T23:45:01.509885Z"
    },
    "papermill": {
     "duration": 0.073559,
     "end_time": "2023-09-19T23:45:01.513191",
     "exception": false,
     "start_time": "2023-09-19T23:45:01.439632",
     "status": "completed"
    },
    "tags": []
   },
   "outputs": [
    {
     "name": "stdout",
     "output_type": "stream",
     "text": [
      "dict_keys(['loss', 'mae', 'mse', 'val_loss', 'val_mae', 'val_mse'])\n"
     ]
    }
   ],
   "source": [
    "type(history.history) ## Saved in a dictionary format\n",
    "print(history.history.keys()) ## The different metrics that are stored"
   ]
  },
  {
   "cell_type": "markdown",
   "id": "e551a1a3",
   "metadata": {
    "papermill": {
     "duration": 0.064283,
     "end_time": "2023-09-19T23:45:01.642512",
     "exception": false,
     "start_time": "2023-09-19T23:45:01.578229",
     "status": "completed"
    },
    "tags": []
   },
   "source": [
    "We have the following stored during the fitting \n",
    "* training loss, training MAE and training MSE\n",
    "* the equivalent for validation! "
   ]
  },
  {
   "cell_type": "markdown",
   "id": "fa0a7728",
   "metadata": {
    "papermill": {
     "duration": 0.065633,
     "end_time": "2023-09-19T23:45:01.773370",
     "exception": false,
     "start_time": "2023-09-19T23:45:01.707737",
     "status": "completed"
    },
    "tags": []
   },
   "source": [
    "### Visualise the learning process"
   ]
  },
  {
   "cell_type": "code",
   "execution_count": 42,
   "id": "3f23655b",
   "metadata": {
    "execution": {
     "iopub.execute_input": "2023-09-19T23:45:01.905352Z",
     "iopub.status.busy": "2023-09-19T23:45:01.904649Z",
     "iopub.status.idle": "2023-09-19T23:45:02.217332Z",
     "shell.execute_reply": "2023-09-19T23:45:02.216179Z"
    },
    "papermill": {
     "duration": 0.381272,
     "end_time": "2023-09-19T23:45:02.219769",
     "exception": false,
     "start_time": "2023-09-19T23:45:01.838497",
     "status": "completed"
    },
    "tags": []
   },
   "outputs": [
    {
     "data": {
      "image/png": "[encoded data removed]",
      "text/plain": [
       "<Figure size 1200x400 with 1 Axes>"
      ]
     },
     "metadata": {},
     "output_type": "display_data"
    }
   ],
   "source": [
    "import matplotlib.pyplot as plt\n",
    "\n",
    "plt.figure(figsize=(12, 4))\n",
    "\n",
    "# Plotting loss\n",
    "plt.subplot(1, 2, 1)\n",
    "plt.plot(history.history['loss'], label='Training Loss')\n",
    "plt.plot(history.history['val_loss'], label='Validation Loss')\n",
    "plt.legend()\n",
    "plt.title('Epochs vs. Training and Validation Loss')\n",
    "\n",
    "plt.show()"
   ]
  },
  {
   "cell_type": "markdown",
   "id": "e04aa4ee",
   "metadata": {
    "papermill": {
     "duration": 0.06477,
     "end_time": "2023-09-19T23:45:02.350019",
     "exception": false,
     "start_time": "2023-09-19T23:45:02.285249",
     "status": "completed"
    },
    "tags": []
   },
   "source": [
    "Due to early stopping, we were stopped long before any overfitting could occur. This would have been signalled once the validation loss starts increasing while the training loss is still decreasing. "
   ]
  },
  {
   "cell_type": "code",
   "execution_count": 43,
   "id": "34c92ea4",
   "metadata": {
    "execution": {
     "iopub.execute_input": "2023-09-19T23:45:02.482128Z",
     "iopub.status.busy": "2023-09-19T23:45:02.481225Z",
     "iopub.status.idle": "2023-09-19T23:45:02.801319Z",
     "shell.execute_reply": "2023-09-19T23:45:02.800076Z"
    },
    "papermill": {
     "duration": 0.388863,
     "end_time": "2023-09-19T23:45:02.803737",
     "exception": false,
     "start_time": "2023-09-19T23:45:02.414874",
     "status": "completed"
    },
    "tags": []
   },
   "outputs": [
    {
     "data": {
      "image/png": "[encoded data removed]",
      "text/plain": [
       "<Figure size 1200x400 with 1 Axes>"
      ]
     },
     "metadata": {},
     "output_type": "display_data"
    }
   ],
   "source": [
    "import matplotlib.pyplot as plt\n",
    "\n",
    "plt.figure(figsize=(12, 4))\n",
    "\n",
    "# Plotting loss\n",
    "plt.subplot(1, 2, 1)\n",
    "plt.plot(history.history['mae'], label='MAE')\n",
    "plt.plot(history.history['mse'], label='MSE')\n",
    "plt.plot(history.history['val_mae'], label='val MAE')\n",
    "plt.plot(history.history['val_mse'], label='val MSE')\n",
    "\n",
    "plt.legend()\n",
    "plt.title('Epochs vs. Training and Validation Loss')\n",
    "\n",
    "\n",
    "plt.show()\n"
   ]
  },
  {
   "cell_type": "code",
   "execution_count": 44,
   "id": "adbf855c",
   "metadata": {
    "execution": {
     "iopub.execute_input": "2023-09-19T23:45:02.938662Z",
     "iopub.status.busy": "2023-09-19T23:45:02.937916Z",
     "iopub.status.idle": "2023-09-19T23:45:03.055214Z",
     "shell.execute_reply": "2023-09-19T23:45:03.054071Z"
    },
    "papermill": {
     "duration": 0.186653,
     "end_time": "2023-09-19T23:45:03.057526",
     "exception": false,
     "start_time": "2023-09-19T23:45:02.870873",
     "status": "completed"
    },
    "tags": []
   },
   "outputs": [
    {
     "name": "stdout",
     "output_type": "stream",
     "text": [
      "2/2 [==============================] - 0s 5ms/step - loss: 10790922.0000 - mae: 2474.9199 - mse: 10790922.0000\n"
     ]
    },
    {
     "data": {
      "text/plain": [
       "[10790922.0, 2474.919921875, 10790922.0]"
      ]
     },
     "execution_count": 44,
     "metadata": {},
     "output_type": "execute_result"
    }
   ],
   "source": [
    "complex_nn_model.evaluate(X_test, y_test)\n",
    "\n"
   ]
  },
  {
   "cell_type": "markdown",
   "id": "3c955406",
   "metadata": {
    "papermill": {
     "duration": 0.065142,
     "end_time": "2023-09-19T23:45:03.188011",
     "exception": false,
     "start_time": "2023-09-19T23:45:03.122869",
     "status": "completed"
    },
    "tags": []
   },
   "source": [
    "## Comparing across all models"
   ]
  },
  {
   "cell_type": "code",
   "execution_count": 45,
   "id": "8e189748",
   "metadata": {
    "execution": {
     "iopub.execute_input": "2023-09-19T23:45:03.321430Z",
     "iopub.status.busy": "2023-09-19T23:45:03.320106Z",
     "iopub.status.idle": "2023-09-19T23:45:03.765369Z",
     "shell.execute_reply": "2023-09-19T23:45:03.764008Z"
    },
    "papermill": {
     "duration": 0.514565,
     "end_time": "2023-09-19T23:45:03.767988",
     "exception": false,
     "start_time": "2023-09-19T23:45:03.253423",
     "status": "completed"
    },
    "tags": []
   },
   "outputs": [
    {
     "name": "stdout",
     "output_type": "stream",
     "text": [
      "OLS MAE =  2487.99\n",
      "OLS MSE =  9.40458709 x 10^6\n",
      "==============================================================================\n",
      "\n",
      "2/2 [==============================] - 0s 5ms/step - loss: 161509024.0000 - mae: 8853.9102 - mse: 161509024.0000\n",
      "NN MAE =  8853.91\n",
      "2/2 [==============================] - 0s 5ms/step - loss: 161509024.0000 - mae: 8853.9102 - mse: 161509024.0000\n",
      "NN MSE =  161.509024 x 10^6\n",
      "==============================================================================\n",
      "\n",
      "2/2 [==============================] - 0s 6ms/step - loss: 10790922.0000 - mae: 2474.9199 - mse: 10790922.0000\n",
      "NN MAE =  2474.92\n",
      "2/2 [==============================] - 0s 6ms/step - loss: 10790922.0000 - mae: 2474.9199 - mse: 10790922.0000\n",
      "NN MSE =  10.790922 x 10^6\n"
     ]
    }
   ],
   "source": [
    "## Other results\n",
    "ols_pred = ols_model.predict(sm.add_constant(X_test))\n",
    "print('OLS MAE = ', round(sm.tools.eval_measures.meanabs(ols_pred,y_test),2))\n",
    "print('OLS MSE = ', round(sm.tools.eval_measures.mse(ols_pred,y_test),2)/1e6, 'x 10^6')\n",
    "print(\"==============================================================================\\n\")\n",
    "\n",
    "## Neural network\n",
    "print('NN MAE = ', round(nn_model_linear.evaluate(X_test, y_test)[1],2))\n",
    "print('NN MSE = ', round(nn_model_linear.evaluate(X_test, y_test)[2],2)/1e6, 'x 10^6')\n",
    "print(\"==============================================================================\\n\")\n",
    "\n",
    "\n",
    "## New complex model \n",
    "print('NN MAE = ', round(complex_nn_model.evaluate(X_test, y_test)[1],2))\n",
    "print('NN MSE = ', round(complex_nn_model.evaluate(X_test, y_test)[2],2)/1e6, 'x 10^6')"
   ]
  },
  {
   "cell_type": "markdown",
   "id": "cffc6729",
   "metadata": {
    "papermill": {
     "duration": 0.06737,
     "end_time": "2023-09-19T23:45:03.903027",
     "exception": false,
     "start_time": "2023-09-19T23:45:03.835657",
     "status": "completed"
    },
    "tags": []
   },
   "source": [
    "Let us form them into a table for an easier visual comparison"
   ]
  },
  {
   "cell_type": "code",
   "execution_count": 46,
   "id": "81c262c7",
   "metadata": {
    "execution": {
     "iopub.execute_input": "2023-09-19T23:45:04.039146Z",
     "iopub.status.busy": "2023-09-19T23:45:04.038131Z",
     "iopub.status.idle": "2023-09-19T23:45:04.453194Z",
     "shell.execute_reply": "2023-09-19T23:45:04.452307Z"
    },
    "papermill": {
     "duration": 0.486267,
     "end_time": "2023-09-19T23:45:04.455541",
     "exception": false,
     "start_time": "2023-09-19T23:45:03.969274",
     "status": "completed"
    },
    "tags": []
   },
   "outputs": [
    {
     "name": "stdout",
     "output_type": "stream",
     "text": [
      "                    Model      MAE  MSE x 10^6\n",
      "0                     OLS  2487.99    9.404587\n",
      "2  Complex Neural Network  2474.92   10.790922\n",
      "1   Linear Neural Network  8853.91  161.509024\n"
     ]
    }
   ],
   "source": [
    "## save metrics\n",
    "ols_mae = round(sm.tools.eval_measures.meanabs(ols_pred, y_test), 2)\n",
    "ols_mse = round(sm.tools.eval_measures.mse(ols_pred, y_test), 2)\n",
    "nn_mae = round(nn_model_linear.evaluate(X_test, y_test, verbose=0)[1], 2)\n",
    "nn_mse = round(nn_model_linear.evaluate(X_test, y_test, verbose=0)[2], 2)\n",
    "complex_nn_mae = round(complex_nn_model.evaluate(X_test, y_test, verbose=0)[1], 2)\n",
    "complex_nn_mse = round(complex_nn_model.evaluate(X_test, y_test, verbose=0)[2], 2)\n",
    "\n",
    "## make df \n",
    "model_results_df = pd.DataFrame({\n",
    "    'Model': ['OLS', 'Linear Neural Network', 'Complex Neural Network'],\n",
    "    'MAE': [ols_mae, nn_mae, complex_nn_mae],\n",
    "    'MSE x 10^6': [ols_mse / 1e6, nn_mse / 1e6, complex_nn_mse / 1e6]\n",
    "})\n",
    "\n",
    "print(model_results_df.sort_values('MSE x 10^6'))\n"
   ]
  },
  {
   "cell_type": "markdown",
   "id": "31398aad",
   "metadata": {
    "papermill": {
     "duration": 0.067755,
     "end_time": "2023-09-19T23:45:04.590452",
     "exception": false,
     "start_time": "2023-09-19T23:45:04.522697",
     "status": "completed"
    },
    "tags": []
   },
   "source": [
    "### Visualise the differences"
   ]
  },
  {
   "cell_type": "code",
   "execution_count": 47,
   "id": "64ec16e3",
   "metadata": {
    "execution": {
     "iopub.execute_input": "2023-09-19T23:45:04.727687Z",
     "iopub.status.busy": "2023-09-19T23:45:04.727323Z",
     "iopub.status.idle": "2023-09-19T23:45:05.453183Z",
     "shell.execute_reply": "2023-09-19T23:45:05.452063Z"
    },
    "papermill": {
     "duration": 0.79804,
     "end_time": "2023-09-19T23:45:05.455422",
     "exception": false,
     "start_time": "2023-09-19T23:45:04.657382",
     "status": "completed"
    },
    "tags": []
   },
   "outputs": [
    {
     "data": {
      "image/png": "[encoded data removed]",
      "text/plain": [
       "<Figure size 1400x400 with 2 Axes>"
      ]
     },
     "metadata": {},
     "output_type": "display_data"
    }
   ],
   "source": [
    "import matplotlib.pyplot as plt\n",
    "import seaborn as sns\n",
    "\n",
    "# Set up the matplotlib figure\n",
    "f, axes = plt.subplots(1,2,figsize=(14, 4))\n",
    "\n",
    "# Plot MAE\n",
    "sns.barplot(x='Model', y='MAE', data=model_results_df, palette='viridis', ax=axes[0])\n",
    "axes[0].set_title('Model Comparison: Test MAE')\n",
    "\n",
    "# Plot MSE\n",
    "sns.barplot(x='Model', y='MSE x 10^6', data=model_results_df, palette='viridis', ax=axes[1])\n",
    "axes[1].set_title('Model Comparison: Test MSE x 10^6')\n",
    "plt.show()\n"
   ]
  },
  {
   "cell_type": "markdown",
   "id": "f6c0caf5",
   "metadata": {
    "papermill": {
     "duration": 0.077681,
     "end_time": "2023-09-19T23:45:05.599920",
     "exception": false,
     "start_time": "2023-09-19T23:45:05.522239",
     "status": "completed"
    },
    "tags": []
   },
   "source": [
    "We can see that the complex neural network has results much similar to the OLS now. "
   ]
  },
  {
   "cell_type": "markdown",
   "id": "2fdbac5f",
   "metadata": {
    "papermill": {
     "duration": 0.066666,
     "end_time": "2023-09-19T23:45:05.736057",
     "exception": false,
     "start_time": "2023-09-19T23:45:05.669391",
     "status": "completed"
    },
    "tags": []
   },
   "source": [
    "# Hyperparameter tuning / Changing the fitting process for linear neural network"
   ]
  },
  {
   "cell_type": "markdown",
   "id": "4e0163db",
   "metadata": {
    "papermill": {
     "duration": 0.068286,
     "end_time": "2023-09-19T23:45:05.879183",
     "exception": false,
     "start_time": "2023-09-19T23:45:05.810897",
     "status": "completed"
    },
    "tags": []
   },
   "source": [
    "It is obvious that the linear neural network was greatly underfitted (small coefficients and large errors). Let us see what we can do to change the training process\n",
    "\n",
    "Let us try to change the learning rate (increase) and increase the number of epochs, to see if there is any effect"
   ]
  },
  {
   "cell_type": "code",
   "execution_count": 48,
   "id": "101cef14",
   "metadata": {
    "execution": {
     "iopub.execute_input": "2023-09-19T23:45:06.025245Z",
     "iopub.status.busy": "2023-09-19T23:45:06.024462Z",
     "iopub.status.idle": "2023-09-19T23:45:16.772660Z",
     "shell.execute_reply": "2023-09-19T23:45:16.771463Z"
    },
    "papermill": {
     "duration": 10.824379,
     "end_time": "2023-09-19T23:45:16.775450",
     "exception": false,
     "start_time": "2023-09-19T23:45:05.951071",
     "status": "completed"
    },
    "tags": []
   },
   "outputs": [],
   "source": [
    "from tensorflow.keras.optimizers import Adam\n",
    "\n",
    "optimizer = Adam(learning_rate=0.01) ## learning rate\n",
    "nn_model_linear.compile(optimizer=optimizer, loss='mean_squared_error', metrics=['mae', 'mse'])\n",
    "history = nn_model_linear.fit(X_train, y_train, epochs = 500, verbose = 0) ##increase epochs\n"
   ]
  },
  {
   "cell_type": "code",
   "execution_count": 49,
   "id": "62a1242a",
   "metadata": {
    "execution": {
     "iopub.execute_input": "2023-09-19T23:45:16.914635Z",
     "iopub.status.busy": "2023-09-19T23:45:16.914205Z",
     "iopub.status.idle": "2023-09-19T23:45:17.225855Z",
     "shell.execute_reply": "2023-09-19T23:45:17.224414Z"
    },
    "papermill": {
     "duration": 0.384539,
     "end_time": "2023-09-19T23:45:17.229013",
     "exception": false,
     "start_time": "2023-09-19T23:45:16.844474",
     "status": "completed"
    },
    "tags": []
   },
   "outputs": [
    {
     "name": "stdout",
     "output_type": "stream",
     "text": [
      "8825.29\n",
      "158.9088\n"
     ]
    }
   ],
   "source": [
    "## CHeck results\n",
    "print(round(nn_model_linear.evaluate(X_test, y_test, verbose=0)[1], 2))\n",
    "print(round(nn_model_linear.evaluate(X_test, y_test, verbose=0)[2], 2)/1e6)"
   ]
  },
  {
   "cell_type": "markdown",
   "id": "bf875415",
   "metadata": {
    "papermill": {
     "duration": 0.067759,
     "end_time": "2023-09-19T23:45:17.363857",
     "exception": false,
     "start_time": "2023-09-19T23:45:17.296098",
     "status": "completed"
    },
    "tags": []
   },
   "source": [
    "Only slight improvements -- lets try increasing the learning rate again"
   ]
  },
  {
   "cell_type": "code",
   "execution_count": 50,
   "id": "80e91a3d",
   "metadata": {
    "execution": {
     "iopub.execute_input": "2023-09-19T23:45:17.505555Z",
     "iopub.status.busy": "2023-09-19T23:45:17.504151Z",
     "iopub.status.idle": "2023-09-19T23:45:24.441946Z",
     "shell.execute_reply": "2023-09-19T23:45:24.440799Z"
    },
    "papermill": {
     "duration": 7.010091,
     "end_time": "2023-09-19T23:45:24.444476",
     "exception": false,
     "start_time": "2023-09-19T23:45:17.434385",
     "status": "completed"
    },
    "tags": []
   },
   "outputs": [
    {
     "name": "stdout",
     "output_type": "stream",
     "text": [
      "8522.03\n",
      "136.0352\n"
     ]
    }
   ],
   "source": [
    "## INCREASE LR TO 0.1\n",
    "optimizer = Adam(learning_rate=0.1) ## learning rate\n",
    "nn_model_linear.compile(optimizer=optimizer, loss='mean_squared_error', metrics=['mae', 'mse'])\n",
    "history = nn_model_linear.fit(X_train, y_train, epochs = 500, verbose = 0) ##increase epochs\n",
    "\n",
    "## CHeck results\n",
    "print(round(nn_model_linear.evaluate(X_test, y_test, verbose=0)[1], 2))\n",
    "print(round(nn_model_linear.evaluate(X_test, y_test, verbose=0)[2], 2)/1e6)"
   ]
  },
  {
   "cell_type": "code",
   "execution_count": 51,
   "id": "9af691be",
   "metadata": {
    "execution": {
     "iopub.execute_input": "2023-09-19T23:45:24.585297Z",
     "iopub.status.busy": "2023-09-19T23:45:24.584875Z",
     "iopub.status.idle": "2023-09-19T23:45:31.641668Z",
     "shell.execute_reply": "2023-09-19T23:45:31.640350Z"
    },
    "papermill": {
     "duration": 7.130312,
     "end_time": "2023-09-19T23:45:31.644296",
     "exception": false,
     "start_time": "2023-09-19T23:45:24.513984",
     "status": "completed"
    },
    "tags": []
   },
   "outputs": [
    {
     "name": "stdout",
     "output_type": "stream",
     "text": [
      "2555.73\n",
      "10.037398\n"
     ]
    }
   ],
   "source": [
    "## INCREASE LR TO 10\n",
    "optimizer = Adam(learning_rate=10) ## learning rate\n",
    "nn_model_linear.compile(optimizer=optimizer, loss='mean_squared_error', metrics=['mae', 'mse'])\n",
    "history = nn_model_linear.fit(X_train, y_train, epochs = 500, verbose = 0) ##increase epochs\n",
    "\n",
    "## CHeck results\n",
    "print(round(nn_model_linear.evaluate(X_test, y_test, verbose=0)[1], 2))\n",
    "print(round(nn_model_linear.evaluate(X_test, y_test, verbose=0)[2], 2)/1e6)"
   ]
  },
  {
   "cell_type": "code",
   "execution_count": 52,
   "id": "d54c66cf",
   "metadata": {
    "execution": {
     "iopub.execute_input": "2023-09-19T23:45:31.782290Z",
     "iopub.status.busy": "2023-09-19T23:45:31.781867Z",
     "iopub.status.idle": "2023-09-19T23:45:38.673843Z",
     "shell.execute_reply": "2023-09-19T23:45:38.672612Z"
    },
    "papermill": {
     "duration": 6.963945,
     "end_time": "2023-09-19T23:45:38.676305",
     "exception": false,
     "start_time": "2023-09-19T23:45:31.712360",
     "status": "completed"
    },
    "tags": []
   },
   "outputs": [
    {
     "name": "stdout",
     "output_type": "stream",
     "text": [
      "2518.63\n",
      "9.742567\n"
     ]
    }
   ],
   "source": [
    "## INCREASE LR TO 100\n",
    "optimizer = Adam(learning_rate=100) ## learning rate\n",
    "nn_model_linear.compile(optimizer=optimizer, loss='mean_squared_error', metrics=['mae', 'mse'])\n",
    "history = nn_model_linear.fit(X_train, y_train, epochs = 500, verbose = 0) ##increase epochs\n",
    "\n",
    "## CHeck results\n",
    "print(round(nn_model_linear.evaluate(X_test, y_test, verbose=0)[1], 2))\n",
    "print(round(nn_model_linear.evaluate(X_test, y_test, verbose=0)[2], 2)/1e6)"
   ]
  },
  {
   "cell_type": "code",
   "execution_count": 53,
   "id": "5a1d1d61",
   "metadata": {
    "execution": {
     "iopub.execute_input": "2023-09-19T23:45:38.815392Z",
     "iopub.status.busy": "2023-09-19T23:45:38.814123Z",
     "iopub.status.idle": "2023-09-19T23:45:39.108184Z",
     "shell.execute_reply": "2023-09-19T23:45:39.107051Z"
    },
    "papermill": {
     "duration": 0.365857,
     "end_time": "2023-09-19T23:45:39.110527",
     "exception": false,
     "start_time": "2023-09-19T23:45:38.744670",
     "status": "completed"
    },
    "tags": []
   },
   "outputs": [
    {
     "data": {
      "image/png": "[encoded data removed]",
      "text/plain": [
       "<Figure size 1200x400 with 1 Axes>"
      ]
     },
     "metadata": {},
     "output_type": "display_data"
    }
   ],
   "source": [
    "plt.figure(figsize=(12, 4))\n",
    "\n",
    "# Plotting loss\n",
    "plt.subplot(1, 2, 1)\n",
    "#plt.plot(history.history['mae'], label='MAE')\n",
    "plt.plot(history.history['mse'], label='MSE')\n",
    "plt.legend()\n",
    "plt.title('Epochs vs. Training and Validation Loss')\n",
    "plt.show()\n"
   ]
  },
  {
   "cell_type": "markdown",
   "id": "7ce73fe3",
   "metadata": {
    "papermill": {
     "duration": 0.068089,
     "end_time": "2023-09-19T23:45:39.246623",
     "exception": false,
     "start_time": "2023-09-19T23:45:39.178534",
     "status": "completed"
    },
    "tags": []
   },
   "source": [
    "This is the lowest MAE and MSE we have been able to get via linear neural network with no hidden layers and no activation function. "
   ]
  },
  {
   "cell_type": "markdown",
   "id": "79aeab18",
   "metadata": {
    "papermill": {
     "duration": 0.067978,
     "end_time": "2023-09-19T23:45:39.382485",
     "exception": false,
     "start_time": "2023-09-19T23:45:39.314507",
     "status": "completed"
    },
    "tags": []
   },
   "source": [
    "## Changing the fitting process for complex neural network "
   ]
  },
  {
   "cell_type": "markdown",
   "id": "1eba8d28",
   "metadata": {
    "papermill": {
     "duration": 0.069354,
     "end_time": "2023-09-19T23:45:39.519940",
     "exception": false,
     "start_time": "2023-09-19T23:45:39.450586",
     "status": "completed"
    },
    "tags": []
   },
   "source": [
    "### Trying different activation functions?"
   ]
  },
  {
   "cell_type": "markdown",
   "id": "f48e2ac9",
   "metadata": {
    "papermill": {
     "duration": 0.068385,
     "end_time": "2023-09-19T23:45:39.656513",
     "exception": false,
     "start_time": "2023-09-19T23:45:39.588128",
     "status": "completed"
    },
    "tags": []
   },
   "source": [
    "* Relu\n",
    "* Leaky relu\n",
    "* Sigmoid \n",
    "* Tanh"
   ]
  },
  {
   "cell_type": "markdown",
   "id": "1f7705dc",
   "metadata": {
    "papermill": {
     "duration": 0.070731,
     "end_time": "2023-09-19T23:45:39.795624",
     "exception": false,
     "start_time": "2023-09-19T23:45:39.724893",
     "status": "completed"
    },
    "tags": []
   },
   "source": [
    "### Try: Leaky Relu (from Relu)"
   ]
  },
  {
   "cell_type": "code",
   "execution_count": 54,
   "id": "788c1943",
   "metadata": {
    "execution": {
     "iopub.execute_input": "2023-09-19T23:45:39.937239Z",
     "iopub.status.busy": "2023-09-19T23:45:39.936809Z",
     "iopub.status.idle": "2023-09-19T23:45:39.995347Z",
     "shell.execute_reply": "2023-09-19T23:45:39.994334Z"
    },
    "papermill": {
     "duration": 0.132756,
     "end_time": "2023-09-19T23:45:39.997738",
     "exception": false,
     "start_time": "2023-09-19T23:45:39.864982",
     "status": "completed"
    },
    "tags": []
   },
   "outputs": [],
   "source": [
    "complex_nn_model_leakyrelu = Sequential([\n",
    "    Dense(128, activation='leaky_relu', input_shape=(X_train.shape[1],)),\n",
    "    Dense(64, activation='leaky_relu'),\n",
    "    Dense(32, activation='leaky_relu'),\n",
    "    Dense(1)  ## single neuron without an activation for regression tasks.\n",
    "])"
   ]
  },
  {
   "cell_type": "code",
   "execution_count": 55,
   "id": "57dad4d5",
   "metadata": {
    "execution": {
     "iopub.execute_input": "2023-09-19T23:45:40.138147Z",
     "iopub.status.busy": "2023-09-19T23:45:40.137691Z",
     "iopub.status.idle": "2023-09-19T23:45:46.207954Z",
     "shell.execute_reply": "2023-09-19T23:45:46.206395Z"
    },
    "papermill": {
     "duration": 6.143441,
     "end_time": "2023-09-19T23:45:46.210558",
     "exception": false,
     "start_time": "2023-09-19T23:45:40.067117",
     "status": "completed"
    },
    "tags": []
   },
   "outputs": [],
   "source": [
    "## Compile again\n",
    "complex_nn_model_leakyrelu.compile(optimizer='adam', loss='mean_squared_error', metrics=['mae', 'mse'])\n",
    "\n",
    "## Training the model -- but now with mre options\n",
    "## We use methods called callbacks to save some information during training, such as \n",
    "## End of some epochs\n",
    "from tensorflow.keras.callbacks import EarlyStopping\n",
    "\n",
    "## Set early stopping\n",
    "early_stop = EarlyStopping(monitor='val_loss', patience=10, ## stops the model fitting process if there is no improvement in validation for 10 epochs\n",
    "                           restore_best_weights=True) ## take the estimated parameters that gave the best results\n",
    "history = complex_nn_model_leakyrelu.fit(X_train, y_train, epochs=100, \n",
    "                               validation_data=(X_test, y_test), \n",
    "                               callbacks=[early_stop],\n",
    "                              verbose = 0) ## Add the callback into the fitting function\n",
    "\n",
    "\n",
    "## Patience -- we should be **patient** enough such that if the model improves only at \n",
    "## a later epoch, we do not miss out on that opportunity.\n",
    "# Hence it should not be too small! "
   ]
  },
  {
   "cell_type": "code",
   "execution_count": 56,
   "id": "af428d73",
   "metadata": {
    "execution": {
     "iopub.execute_input": "2023-09-19T23:45:46.353468Z",
     "iopub.status.busy": "2023-09-19T23:45:46.352775Z",
     "iopub.status.idle": "2023-09-19T23:45:46.470393Z",
     "shell.execute_reply": "2023-09-19T23:45:46.469142Z"
    },
    "papermill": {
     "duration": 0.191342,
     "end_time": "2023-09-19T23:45:46.472798",
     "exception": false,
     "start_time": "2023-09-19T23:45:46.281456",
     "status": "completed"
    },
    "tags": []
   },
   "outputs": [
    {
     "name": "stdout",
     "output_type": "stream",
     "text": [
      "2/2 [==============================] - 0s 6ms/step - loss: 12437767.0000 - mae: 2807.6069 - mse: 12437767.0000\n"
     ]
    }
   ],
   "source": [
    "complex_nn_leaky_loss,complex_nn_leaky_mae, complex_nn_leaky_mse=  complex_nn_model_leakyrelu.evaluate(X_test, y_test)"
   ]
  },
  {
   "cell_type": "code",
   "execution_count": 57,
   "id": "998ce70d",
   "metadata": {
    "execution": {
     "iopub.execute_input": "2023-09-19T23:45:46.612305Z",
     "iopub.status.busy": "2023-09-19T23:45:46.611863Z",
     "iopub.status.idle": "2023-09-19T23:45:46.619146Z",
     "shell.execute_reply": "2023-09-19T23:45:46.618347Z"
    },
    "papermill": {
     "duration": 0.078794,
     "end_time": "2023-09-19T23:45:46.621047",
     "exception": false,
     "start_time": "2023-09-19T23:45:46.542253",
     "status": "completed"
    },
    "tags": []
   },
   "outputs": [],
   "source": [
    "## Add the new result -- via the loc method, at the last index of the dataframe, which takes in a list \n",
    "#via the append method, which takes in a new dictionary according to the columns \n",
    "model_results_df.loc[len(model_results_df)] = ['Complex NN Leaky Relu', complex_nn_leaky_mae, complex_nn_leaky_mse/1e6]"
   ]
  },
  {
   "cell_type": "code",
   "execution_count": 58,
   "id": "28f8334a",
   "metadata": {
    "execution": {
     "iopub.execute_input": "2023-09-19T23:45:46.760541Z",
     "iopub.status.busy": "2023-09-19T23:45:46.760135Z",
     "iopub.status.idle": "2023-09-19T23:45:46.764461Z",
     "shell.execute_reply": "2023-09-19T23:45:46.763265Z"
    },
    "papermill": {
     "duration": 0.07698,
     "end_time": "2023-09-19T23:45:46.766648",
     "exception": false,
     "start_time": "2023-09-19T23:45:46.689668",
     "status": "completed"
    },
    "tags": []
   },
   "outputs": [],
   "source": [
    "## Check the new results\n",
    "#model_results_df.drop([3])"
   ]
  },
  {
   "cell_type": "markdown",
   "id": "2debee96",
   "metadata": {
    "papermill": {
     "duration": 0.068318,
     "end_time": "2023-09-19T23:45:46.902682",
     "exception": false,
     "start_time": "2023-09-19T23:45:46.834364",
     "status": "completed"
    },
    "tags": []
   },
   "source": [
    "### Try others via a for loop"
   ]
  },
  {
   "cell_type": "markdown",
   "id": "eb27615e",
   "metadata": {
    "execution": {
     "iopub.execute_input": "2023-09-19T14:46:43.077611Z",
     "iopub.status.busy": "2023-09-19T14:46:43.077241Z",
     "iopub.status.idle": "2023-09-19T14:46:43.133680Z",
     "shell.execute_reply": "2023-09-19T14:46:43.132659Z",
     "shell.execute_reply.started": "2023-09-19T14:46:43.077579Z"
    },
    "papermill": {
     "duration": 0.069034,
     "end_time": "2023-09-19T23:45:47.039440",
     "exception": false,
     "start_time": "2023-09-19T23:45:46.970406",
     "status": "completed"
    },
    "tags": []
   },
   "source": [
    "Instead of repeating lines of code, let us instead form a for loop and collect each history along the way\n",
    "\n",
    "*Code was inspired from DataCamp course on neural networks*"
   ]
  },
  {
   "cell_type": "code",
   "execution_count": 59,
   "id": "1d2839e0",
   "metadata": {
    "execution": {
     "iopub.execute_input": "2023-09-19T23:45:47.177714Z",
     "iopub.status.busy": "2023-09-19T23:45:47.177307Z",
     "iopub.status.idle": "2023-09-19T23:46:11.944715Z",
     "shell.execute_reply": "2023-09-19T23:46:11.943350Z"
    },
    "papermill": {
     "duration": 24.839361,
     "end_time": "2023-09-19T23:46:11.947311",
     "exception": false,
     "start_time": "2023-09-19T23:45:47.107950",
     "status": "completed"
    },
    "tags": []
   },
   "outputs": [],
   "source": [
    "activations = ['relu', 'leaky_relu', 'sigmoid', 'tanh']\n",
    "\n",
    "## Activation results collector (dictionary)\n",
    "activations_results_dict = {} ## init an empty dict that we will use to collect the callbacks during fit\n",
    "\n",
    "## for loop to use each activation function, collect results and store inside the dictionary\n",
    "for act_fn in activations:\n",
    "    \n",
    "    ## Step 1: define the model\n",
    "    model = Sequential([ ## Immediately add all layers in one single line of code, via a list of each layer \n",
    "    Dense(128, activation=act_fn, input_shape=(X_train.shape[1],)),\n",
    "    Dense(64, activation=act_fn),\n",
    "    Dense(32, activation=act_fn),\n",
    "    Dense(1)  ## single neuron without an activation for regression tasks.\n",
    "])\n",
    "    \n",
    "    ## Step 2: compile\n",
    "    model.compile(optimizer='adam', loss='mean_squared_error', metrics=['mae', 'mse'])\n",
    "\n",
    "    ## Step 3: Set early stopping\n",
    "    early_stop = EarlyStopping(monitor='val_loss', patience=10, ## stops the model fitting process if there is no improvement in validation for 10 epochs\n",
    "                           restore_best_weights=True) ## take the estimated parameters that gave the best results\n",
    "\n",
    "    ## Step 4: get history\n",
    "    history = model.fit(X_train, y_train, epochs=100, \n",
    "                               validation_data=(X_test, y_test), \n",
    "                               callbacks=[early_stop],\n",
    "                              verbose = 0) ## Add the callback into the fitting function\n",
    "    ## Step 5: save into dictionary\n",
    "    activations_results_dict[act_fn] = history\n",
    "    "
   ]
  },
  {
   "cell_type": "code",
   "execution_count": 60,
   "id": "58c50029",
   "metadata": {
    "execution": {
     "iopub.execute_input": "2023-09-19T23:46:12.088672Z",
     "iopub.status.busy": "2023-09-19T23:46:12.087900Z",
     "iopub.status.idle": "2023-09-19T23:46:12.094687Z",
     "shell.execute_reply": "2023-09-19T23:46:12.093342Z"
    },
    "papermill": {
     "duration": 0.080366,
     "end_time": "2023-09-19T23:46:12.097186",
     "exception": false,
     "start_time": "2023-09-19T23:46:12.016820",
     "status": "completed"
    },
    "tags": []
   },
   "outputs": [
    {
     "name": "stdout",
     "output_type": "stream",
     "text": [
      "{'relu': <keras.callbacks.History object at 0x7d00c1e0fb20>, 'leaky_relu': <keras.callbacks.History object at 0x7d013c8ff7f0>, 'sigmoid': <keras.callbacks.History object at 0x7d016c9ef130>, 'tanh': <keras.callbacks.History object at 0x7d00c1a5b2e0>}\n",
      "dict_keys(['relu', 'leaky_relu', 'sigmoid', 'tanh'])\n"
     ]
    }
   ],
   "source": [
    "## Check results \n",
    "print(activations_results_dict)\n",
    "print(activations_results_dict.keys())"
   ]
  },
  {
   "cell_type": "markdown",
   "id": "67b98444",
   "metadata": {
    "papermill": {
     "duration": 0.067642,
     "end_time": "2023-09-19T23:46:12.233021",
     "exception": false,
     "start_time": "2023-09-19T23:46:12.165379",
     "status": "completed"
    },
    "tags": []
   },
   "source": [
    "## Visualise the results "
   ]
  },
  {
   "cell_type": "code",
   "execution_count": 61,
   "id": "62acb1b4",
   "metadata": {
    "execution": {
     "iopub.execute_input": "2023-09-19T23:46:12.370297Z",
     "iopub.status.busy": "2023-09-19T23:46:12.369879Z",
     "iopub.status.idle": "2023-09-19T23:46:12.376956Z",
     "shell.execute_reply": "2023-09-19T23:46:12.375820Z"
    },
    "papermill": {
     "duration": 0.078478,
     "end_time": "2023-09-19T23:46:12.379386",
     "exception": false,
     "start_time": "2023-09-19T23:46:12.300908",
     "status": "completed"
    },
    "tags": []
   },
   "outputs": [
    {
     "data": {
      "text/plain": [
       "dict_keys(['loss', 'mae', 'mse', 'val_loss', 'val_mae', 'val_mse'])"
      ]
     },
     "execution_count": 61,
     "metadata": {},
     "output_type": "execute_result"
    }
   ],
   "source": [
    "activations_results_dict['relu'].history.keys()\n",
    "## We can visualise validation loss (validation error)"
   ]
  },
  {
   "cell_type": "code",
   "execution_count": 62,
   "id": "bb80d979",
   "metadata": {
    "execution": {
     "iopub.execute_input": "2023-09-19T23:46:12.517685Z",
     "iopub.status.busy": "2023-09-19T23:46:12.517241Z",
     "iopub.status.idle": "2023-09-19T23:46:12.524714Z",
     "shell.execute_reply": "2023-09-19T23:46:12.523459Z"
    },
    "papermill": {
     "duration": 0.080287,
     "end_time": "2023-09-19T23:46:12.527536",
     "exception": false,
     "start_time": "2023-09-19T23:46:12.447249",
     "status": "completed"
    },
    "tags": []
   },
   "outputs": [],
   "source": [
    "validation_losses = [activations_results_dict[act_fn].history['val_loss'] for act_fn in activations]\n",
    "training_losses = [activations_results_dict[act_fn].history['loss'] for act_fn in activations]\n",
    "\n",
    "## In order to turn the losses into something easier to interpret like a dataframe\n",
    "# we first have to match each list within the list to the activation function name,\n",
    "# then turn it into a dict, then insert into the dataframe method\n",
    "\n",
    "## Zip to match the entries of each list item with each other \n",
    "temp_dict_validation = dict(zip(activations, validation_losses))\n",
    "temp_dict_train = dict(zip(activations, training_losses))\n",
    "\n",
    "## Turn into a pd.DataFrame\n",
    "act_fn_valid_loss_df = pd.DataFrame(temp_dict_validation)\n",
    "act_fn_train_loss_df = pd.DataFrame(temp_dict_train)"
   ]
  },
  {
   "cell_type": "code",
   "execution_count": 63,
   "id": "11ac5746",
   "metadata": {
    "execution": {
     "iopub.execute_input": "2023-09-19T23:46:12.669041Z",
     "iopub.status.busy": "2023-09-19T23:46:12.668621Z",
     "iopub.status.idle": "2023-09-19T23:46:12.681508Z",
     "shell.execute_reply": "2023-09-19T23:46:12.680254Z"
    },
    "papermill": {
     "duration": 0.087815,
     "end_time": "2023-09-19T23:46:12.683872",
     "exception": false,
     "start_time": "2023-09-19T23:46:12.596057",
     "status": "completed"
    },
    "tags": []
   },
   "outputs": [
    {
     "name": "stdout",
     "output_type": "stream",
     "text": [
      "          relu   leaky_relu      sigmoid         tanh\n",
      "0  161546688.0  161542608.0  161545200.0  161534176.0\n",
      "1  161534976.0  161529104.0  161534240.0  161512064.0\n",
      "2  161518496.0  161509136.0  161524144.0  161489424.0\n",
      "3  161493856.0  161478832.0  161515456.0  161468592.0\n",
      "4  161456032.0  161431360.0  161508256.0  161451808.0\n",
      "          relu   leaky_relu      sigmoid         tanh\n",
      "0  201874928.0  201869392.0  201873488.0  201869600.0\n",
      "1  201862304.0  201855648.0  201860880.0  201840656.0\n",
      "2  201846624.0  201836080.0  201849136.0  201813200.0\n",
      "3  201823296.0  201808320.0  201838816.0  201785168.0\n",
      "4  201790432.0  201765520.0  201829264.0  201761808.0\n"
     ]
    }
   ],
   "source": [
    "print(act_fn_valid_loss_df.head())\n",
    "print(act_fn_train_loss_df.head())"
   ]
  },
  {
   "cell_type": "code",
   "execution_count": 64,
   "id": "581345a7",
   "metadata": {
    "execution": {
     "iopub.execute_input": "2023-09-19T23:46:12.823132Z",
     "iopub.status.busy": "2023-09-19T23:46:12.822732Z",
     "iopub.status.idle": "2023-09-19T23:46:13.301631Z",
     "shell.execute_reply": "2023-09-19T23:46:13.300357Z"
    },
    "papermill": {
     "duration": 0.551222,
     "end_time": "2023-09-19T23:46:13.304116",
     "exception": false,
     "start_time": "2023-09-19T23:46:12.752894",
     "status": "completed"
    },
    "tags": []
   },
   "outputs": [
    {
     "data": {
      "text/plain": [
       "Text(0.5, 1.0, 'Validation losses against epochs, per activation functions')"
      ]
     },
     "execution_count": 64,
     "metadata": {},
     "output_type": "execute_result"
    },
    {
     "data": {
      "image/png": "[encoded data removed]",
      "text/plain": [
       "<Figure size 640x480 with 1 Axes>"
      ]
     },
     "metadata": {},
     "output_type": "display_data"
    }
   ],
   "source": [
    "act_fn_valid_loss_df.plot()\n",
    "plt.title('Validation losses against epochs, per activation functions')"
   ]
  },
  {
   "cell_type": "code",
   "execution_count": 65,
   "id": "1578fdfc",
   "metadata": {
    "execution": {
     "iopub.execute_input": "2023-09-19T23:46:13.448162Z",
     "iopub.status.busy": "2023-09-19T23:46:13.447712Z",
     "iopub.status.idle": "2023-09-19T23:46:13.850504Z",
     "shell.execute_reply": "2023-09-19T23:46:13.849097Z"
    },
    "papermill": {
     "duration": 0.479334,
     "end_time": "2023-09-19T23:46:13.853831",
     "exception": false,
     "start_time": "2023-09-19T23:46:13.374497",
     "status": "completed"
    },
    "tags": []
   },
   "outputs": [
    {
     "data": {
      "text/plain": [
       "Text(0.5, 1.0, 'Training losses against epochs, per activation functions')"
      ]
     },
     "execution_count": 65,
     "metadata": {},
     "output_type": "execute_result"
    },
    {
     "data": {
      "image/png": "[encoded data removed]",
      "text/plain": [
       "<Figure size 640x480 with 1 Axes>"
      ]
     },
     "metadata": {},
     "output_type": "display_data"
    }
   ],
   "source": [
    "act_fn_train_loss_df.plot()\n",
    "plt.title('Training losses against epochs, per activation functions')"
   ]
  },
  {
   "cell_type": "markdown",
   "id": "58807e1b",
   "metadata": {
    "papermill": {
     "duration": 0.07055,
     "end_time": "2023-09-19T23:46:14.012041",
     "exception": false,
     "start_time": "2023-09-19T23:46:13.941491",
     "status": "completed"
    },
    "tags": []
   },
   "source": [
    "### Activation function results\n",
    "\n",
    "Sigmoid and tanh were the worst performers, while relu and leaky_relu excelled for this dataset. An interesting insight that leaky_relu allowed for a much faster initial convergence, but relu was able to catch up later on. "
   ]
  },
  {
   "cell_type": "code",
   "execution_count": null,
   "id": "e4d54040",
   "metadata": {
    "papermill": {
     "duration": 0.070562,
     "end_time": "2023-09-19T23:46:14.152755",
     "exception": false,
     "start_time": "2023-09-19T23:46:14.082193",
     "status": "completed"
    },
    "tags": []
   },
   "outputs": [],
   "source": []
  }
 ],
 "metadata": {
  "kernelspec": {
   "display_name": "Python 3",
   "language": "python",
   "name": "python3"
  },
  "language_info": {
   "codemirror_mode": {
    "name": "ipython",
    "version": 3
   },
   "file_extension": ".py",
   "mimetype": "text/x-python",
   "name": "python",
   "nbconvert_exporter": "python",
   "pygments_lexer": "ipython3",
   "version": "3.10.12"
  },
  "papermill": {
   "default_parameters": {},
   "duration": 126.355236,
   "end_time": "2023-09-19T23:46:17.098081",
   "environment_variables": {},
   "exception": null,
   "input_path": "__notebook__.ipynb",
   "output_path": "__notebook__.ipynb",
   "parameters": {},
   "start_time": "2023-09-19T23:44:10.742845",
   "version": "2.4.0"
  }
 },
 "nbformat": 4,
 "nbformat_minor": 5
}
